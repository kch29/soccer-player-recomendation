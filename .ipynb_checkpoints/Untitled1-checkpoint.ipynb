{
 "cells": [
  {
   "cell_type": "code",
   "execution_count": 2,
   "id": "a03c1df4",
   "metadata": {},
   "outputs": [],
   "source": [
    "from selenium import webdriver\n",
    "from pandas.io.html import read_html\n",
    "import time\n",
    "import pandas as pd\n",
    "import numpy as np"
   ]
  },
  {
   "cell_type": "code",
   "execution_count": 4,
   "id": "2df17e57",
   "metadata": {},
   "outputs": [],
   "source": [
    "def  defensive (url, sleep_time) :\n",
    "    chrome_driver = 'C:\\ex_han\\chromedriver32\\chromedriver.exe'\n",
    "    driver = webdriver.Chrome(chrome_driver)\n",
    "    driver.get(url)\n",
    "    \n",
    "    #time.sleep(sleep_time)\n",
    "    #accept = driver.find_element_by_css_selector('#qcCmpButtons > button:nth-child(2)')\n",
    "    #accept.click()\n",
    "    \n",
    "    time.sleep(sleep_time)\n",
    "    defense = driver.find_element_by_link_text('Defensive')\n",
    "    defense.click()\n",
    "    \n",
    "    df_defensive = pd.DataFrame(columns = ['Player', 'Player.1', 'Apps', 'Mins', 'Tackles', 'Inter', 'Fouls',\n",
    "       'Offsides', 'Clear', 'Drb', 'Blocks', 'OwnG', 'Rating'])\n",
    "    for i in np.arange(total_page)+1 :\n",
    "        time.sleep(sleep_time)\n",
    "        table = driver.find_element_by_xpath('//*[@id=\"statistics-table-defensive\"]')\n",
    "        table_html= table.get_attribute('innerHTML')\n",
    "        df2 = read_html(table_html)[0]\n",
    "        df_defensive = pd.concat([df_defensive, df2], axis=0)\n",
    "        driver.find_element_by_link_text('next').click()\n",
    "    "
   ]
  },
  {
   "cell_type": "code",
   "execution_count": 5,
   "id": "dce0ac1d",
   "metadata": {},
   "outputs": [],
   "source": [
    "defensive('https://1xbet.whoscored.com/Regions/252/Tournaments/2/Seasons/7811/Stages/17590/PlayerStatistics/England-Premier-League-2019-2020', 5)"
   ]
  },
  {
   "cell_type": "code",
   "execution_count": null,
   "id": "7459bd2f",
   "metadata": {},
   "outputs": [],
   "source": []
  }
 ],
 "metadata": {
  "kernelspec": {
   "display_name": "Python 3 (ipykernel)",
   "language": "python",
   "name": "python3"
  },
  "language_info": {
   "codemirror_mode": {
    "name": "ipython",
    "version": 3
   },
   "file_extension": ".py",
   "mimetype": "text/x-python",
   "name": "python",
   "nbconvert_exporter": "python",
   "pygments_lexer": "ipython3",
   "version": "3.9.5"
  }
 },
 "nbformat": 4,
 "nbformat_minor": 5
}
