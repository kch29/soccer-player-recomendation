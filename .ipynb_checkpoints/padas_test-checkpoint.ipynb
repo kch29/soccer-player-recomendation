{
 "cells": [
  {
   "cell_type": "code",
   "execution_count": 16,
   "id": "bf90dc1e",
   "metadata": {},
   "outputs": [],
   "source": [
    "import numpy as np\n",
    "import pandas as pd"
   ]
  },
  {
   "cell_type": "code",
   "execution_count": 17,
   "id": "dfbcba7a",
   "metadata": {},
   "outputs": [],
   "source": [
    "s = pd.Series([1,3,5,np.nan,6,8])"
   ]
  },
  {
   "cell_type": "code",
   "execution_count": 20,
   "id": "0caaa031",
   "metadata": {},
   "outputs": [
    {
     "data": {
      "text/html": [
       "<div>\n",
       "<style scoped>\n",
       "    .dataframe tbody tr th:only-of-type {\n",
       "        vertical-align: middle;\n",
       "    }\n",
       "\n",
       "    .dataframe tbody tr th {\n",
       "        vertical-align: top;\n",
       "    }\n",
       "\n",
       "    .dataframe thead th {\n",
       "        text-align: right;\n",
       "    }\n",
       "</style>\n",
       "<table border=\"1\" class=\"dataframe\">\n",
       "  <thead>\n",
       "    <tr style=\"text-align: right;\">\n",
       "      <th></th>\n",
       "      <th>a</th>\n",
       "      <th>b</th>\n",
       "      <th>c</th>\n",
       "    </tr>\n",
       "  </thead>\n",
       "  <tbody>\n",
       "    <tr>\n",
       "      <th>1</th>\n",
       "      <td>1</td>\n",
       "      <td>2</td>\n",
       "      <td>3</td>\n",
       "    </tr>\n",
       "    <tr>\n",
       "      <th>2</th>\n",
       "      <td>4</td>\n",
       "      <td>5</td>\n",
       "      <td>6</td>\n",
       "    </tr>\n",
       "    <tr>\n",
       "      <th>3</th>\n",
       "      <td>7</td>\n",
       "      <td>8</td>\n",
       "      <td>9</td>\n",
       "    </tr>\n",
       "  </tbody>\n",
       "</table>\n",
       "</div>"
      ],
      "text/plain": [
       "   a  b  c\n",
       "1  1  2  3\n",
       "2  4  5  6\n",
       "3  7  8  9"
      ]
     },
     "execution_count": 20,
     "metadata": {},
     "output_type": "execute_result"
    }
   ],
   "source": [
    "er = pd.DataFrame([[1,2,3],[4,5,6],[7,8,9]], index = list(\"123\"), columns = list(\"abc\"))\n",
    "er"
   ]
  },
  {
   "cell_type": "code",
   "execution_count": 12,
   "id": "3cb2ad1d",
   "metadata": {},
   "outputs": [
    {
     "data": {
      "text/html": [
       "<div>\n",
       "<style scoped>\n",
       "    .dataframe tbody tr th:only-of-type {\n",
       "        vertical-align: middle;\n",
       "    }\n",
       "\n",
       "    .dataframe tbody tr th {\n",
       "        vertical-align: top;\n",
       "    }\n",
       "\n",
       "    .dataframe thead th {\n",
       "        text-align: right;\n",
       "    }\n",
       "</style>\n",
       "<table border=\"1\" class=\"dataframe\">\n",
       "  <thead>\n",
       "    <tr style=\"text-align: right;\">\n",
       "      <th></th>\n",
       "      <th>a</th>\n",
       "      <th>b</th>\n",
       "      <th>c</th>\n",
       "    </tr>\n",
       "  </thead>\n",
       "  <tbody>\n",
       "    <tr>\n",
       "      <th>1</th>\n",
       "      <td>4</td>\n",
       "      <td>7</td>\n",
       "      <td>10</td>\n",
       "    </tr>\n",
       "    <tr>\n",
       "      <th>2</th>\n",
       "      <td>5</td>\n",
       "      <td>8</td>\n",
       "      <td>11</td>\n",
       "    </tr>\n",
       "    <tr>\n",
       "      <th>3</th>\n",
       "      <td>6</td>\n",
       "      <td>9</td>\n",
       "      <td>12</td>\n",
       "    </tr>\n",
       "  </tbody>\n",
       "</table>\n",
       "</div>"
      ],
      "text/plain": [
       "   a  b   c\n",
       "1  4  7  10\n",
       "2  5  8  11\n",
       "3  6  9  12"
      ]
     },
     "execution_count": 12,
     "metadata": {},
     "output_type": "execute_result"
    }
   ],
   "source": [
    "df = pd.DataFrame(\n",
    "    {\"a\":[4,5,6],   #가로축(인덱스), 해당 열 값\n",
    "     \"b\":[7,8,9],\n",
    "     \"c\":[10,11,12]},\n",
    "     index=[1,2,3]) # 세로축(인덱스)\n",
    "df"
   ]
  },
  {
   "cell_type": "code",
   "execution_count": 13,
   "id": "00ff0bd9",
   "metadata": {},
   "outputs": [
    {
     "data": {
      "text/plain": [
       "1    4\n",
       "2    5\n",
       "3    6\n",
       "Name: a, dtype: int64"
      ]
     },
     "execution_count": 13,
     "metadata": {},
     "output_type": "execute_result"
    }
   ],
   "source": [
    "df[\"a\"] "
   ]
  },
  {
   "cell_type": "code",
   "execution_count": 14,
   "id": "8b3f0051",
   "metadata": {},
   "outputs": [
    {
     "data": {
      "text/html": [
       "<div>\n",
       "<style scoped>\n",
       "    .dataframe tbody tr th:only-of-type {\n",
       "        vertical-align: middle;\n",
       "    }\n",
       "\n",
       "    .dataframe tbody tr th {\n",
       "        vertical-align: top;\n",
       "    }\n",
       "\n",
       "    .dataframe thead th {\n",
       "        text-align: right;\n",
       "    }\n",
       "</style>\n",
       "<table border=\"1\" class=\"dataframe\">\n",
       "  <thead>\n",
       "    <tr style=\"text-align: right;\">\n",
       "      <th></th>\n",
       "      <th>a</th>\n",
       "    </tr>\n",
       "  </thead>\n",
       "  <tbody>\n",
       "    <tr>\n",
       "      <th>1</th>\n",
       "      <td>4</td>\n",
       "    </tr>\n",
       "    <tr>\n",
       "      <th>2</th>\n",
       "      <td>5</td>\n",
       "    </tr>\n",
       "    <tr>\n",
       "      <th>3</th>\n",
       "      <td>6</td>\n",
       "    </tr>\n",
       "  </tbody>\n",
       "</table>\n",
       "</div>"
      ],
      "text/plain": [
       "   a\n",
       "1  4\n",
       "2  5\n",
       "3  6"
      ]
     },
     "execution_count": 14,
     "metadata": {},
     "output_type": "execute_result"
    }
   ],
   "source": [
    "df[[\"a\"]] "
   ]
  },
  {
   "cell_type": "code",
   "execution_count": 21,
   "id": "3dee82b5",
   "metadata": {},
   "outputs": [
    {
     "data": {
      "text/plain": [
       "DatetimeIndex(['2022-05-01', '2022-05-02', '2022-05-03', '2022-05-04',\n",
       "               '2022-05-05', '2022-05-06'],\n",
       "              dtype='datetime64[ns]', freq='D')"
      ]
     },
     "execution_count": 21,
     "metadata": {},
     "output_type": "execute_result"
    }
   ],
   "source": [
    "dates = pd.date_range('20220501', periods=6)\n",
    "dates"
   ]
  },
  {
   "cell_type": "code",
   "execution_count": 26,
   "id": "e174d7d3",
   "metadata": {},
   "outputs": [
    {
     "data": {
      "text/html": [
       "<div>\n",
       "<style scoped>\n",
       "    .dataframe tbody tr th:only-of-type {\n",
       "        vertical-align: middle;\n",
       "    }\n",
       "\n",
       "    .dataframe tbody tr th {\n",
       "        vertical-align: top;\n",
       "    }\n",
       "\n",
       "    .dataframe thead th {\n",
       "        text-align: right;\n",
       "    }\n",
       "</style>\n",
       "<table border=\"1\" class=\"dataframe\">\n",
       "  <thead>\n",
       "    <tr style=\"text-align: right;\">\n",
       "      <th></th>\n",
       "      <th>f</th>\n",
       "      <th>u</th>\n",
       "      <th>c</th>\n",
       "      <th>k</th>\n",
       "    </tr>\n",
       "  </thead>\n",
       "  <tbody>\n",
       "    <tr>\n",
       "      <th>2022-05-01</th>\n",
       "      <td>-0.016668</td>\n",
       "      <td>0.175465</td>\n",
       "      <td>-1.316790</td>\n",
       "      <td>-0.101422</td>\n",
       "    </tr>\n",
       "    <tr>\n",
       "      <th>2022-05-02</th>\n",
       "      <td>-0.275867</td>\n",
       "      <td>-0.079602</td>\n",
       "      <td>0.659178</td>\n",
       "      <td>0.364791</td>\n",
       "    </tr>\n",
       "    <tr>\n",
       "      <th>2022-05-03</th>\n",
       "      <td>1.479616</td>\n",
       "      <td>-2.350214</td>\n",
       "      <td>-1.150083</td>\n",
       "      <td>1.140985</td>\n",
       "    </tr>\n",
       "    <tr>\n",
       "      <th>2022-05-04</th>\n",
       "      <td>-0.082219</td>\n",
       "      <td>0.426620</td>\n",
       "      <td>0.388050</td>\n",
       "      <td>0.569719</td>\n",
       "    </tr>\n",
       "    <tr>\n",
       "      <th>2022-05-05</th>\n",
       "      <td>-1.764424</td>\n",
       "      <td>-0.137136</td>\n",
       "      <td>0.892092</td>\n",
       "      <td>-0.742123</td>\n",
       "    </tr>\n",
       "    <tr>\n",
       "      <th>2022-05-06</th>\n",
       "      <td>0.815092</td>\n",
       "      <td>-0.808374</td>\n",
       "      <td>0.578095</td>\n",
       "      <td>-0.414305</td>\n",
       "    </tr>\n",
       "  </tbody>\n",
       "</table>\n",
       "</div>"
      ],
      "text/plain": [
       "                   f         u         c         k\n",
       "2022-05-01 -0.016668  0.175465 -1.316790 -0.101422\n",
       "2022-05-02 -0.275867 -0.079602  0.659178  0.364791\n",
       "2022-05-03  1.479616 -2.350214 -1.150083  1.140985\n",
       "2022-05-04 -0.082219  0.426620  0.388050  0.569719\n",
       "2022-05-05 -1.764424 -0.137136  0.892092 -0.742123\n",
       "2022-05-06  0.815092 -0.808374  0.578095 -0.414305"
      ]
     },
     "execution_count": 26,
     "metadata": {},
     "output_type": "execute_result"
    }
   ],
   "source": [
    "datedd = pd.DataFrame(np.random.randn(6,4), index = dates, columns = list(\"fuck\"))\n",
    "datedd"
   ]
  },
  {
   "cell_type": "code",
   "execution_count": 27,
   "id": "e6422850",
   "metadata": {},
   "outputs": [
    {
     "data": {
      "text/plain": [
       "f    float64\n",
       "u    float64\n",
       "c    float64\n",
       "k    float64\n",
       "dtype: object"
      ]
     },
     "execution_count": 27,
     "metadata": {},
     "output_type": "execute_result"
    }
   ],
   "source": [
    "datedd.dtypes"
   ]
  },
  {
   "cell_type": "code",
   "execution_count": 29,
   "id": "30deb8e2",
   "metadata": {},
   "outputs": [
    {
     "data": {
      "text/html": [
       "<div>\n",
       "<style scoped>\n",
       "    .dataframe tbody tr th:only-of-type {\n",
       "        vertical-align: middle;\n",
       "    }\n",
       "\n",
       "    .dataframe tbody tr th {\n",
       "        vertical-align: top;\n",
       "    }\n",
       "\n",
       "    .dataframe thead th {\n",
       "        text-align: right;\n",
       "    }\n",
       "</style>\n",
       "<table border=\"1\" class=\"dataframe\">\n",
       "  <thead>\n",
       "    <tr style=\"text-align: right;\">\n",
       "      <th></th>\n",
       "      <th>f</th>\n",
       "      <th>u</th>\n",
       "      <th>c</th>\n",
       "      <th>k</th>\n",
       "    </tr>\n",
       "  </thead>\n",
       "  <tbody>\n",
       "    <tr>\n",
       "      <th>2022-05-01</th>\n",
       "      <td>-0.016668</td>\n",
       "      <td>0.175465</td>\n",
       "      <td>-1.316790</td>\n",
       "      <td>-0.101422</td>\n",
       "    </tr>\n",
       "    <tr>\n",
       "      <th>2022-05-02</th>\n",
       "      <td>-0.275867</td>\n",
       "      <td>-0.079602</td>\n",
       "      <td>0.659178</td>\n",
       "      <td>0.364791</td>\n",
       "    </tr>\n",
       "    <tr>\n",
       "      <th>2022-05-03</th>\n",
       "      <td>1.479616</td>\n",
       "      <td>-2.350214</td>\n",
       "      <td>-1.150083</td>\n",
       "      <td>1.140985</td>\n",
       "    </tr>\n",
       "  </tbody>\n",
       "</table>\n",
       "</div>"
      ],
      "text/plain": [
       "                   f         u         c         k\n",
       "2022-05-01 -0.016668  0.175465 -1.316790 -0.101422\n",
       "2022-05-02 -0.275867 -0.079602  0.659178  0.364791\n",
       "2022-05-03  1.479616 -2.350214 -1.150083  1.140985"
      ]
     },
     "execution_count": 29,
     "metadata": {},
     "output_type": "execute_result"
    }
   ],
   "source": [
    "datedd.head(3)"
   ]
  },
  {
   "cell_type": "code",
   "execution_count": 30,
   "id": "5bb6d8ee",
   "metadata": {},
   "outputs": [
    {
     "data": {
      "text/html": [
       "<div>\n",
       "<style scoped>\n",
       "    .dataframe tbody tr th:only-of-type {\n",
       "        vertical-align: middle;\n",
       "    }\n",
       "\n",
       "    .dataframe tbody tr th {\n",
       "        vertical-align: top;\n",
       "    }\n",
       "\n",
       "    .dataframe thead th {\n",
       "        text-align: right;\n",
       "    }\n",
       "</style>\n",
       "<table border=\"1\" class=\"dataframe\">\n",
       "  <thead>\n",
       "    <tr style=\"text-align: right;\">\n",
       "      <th></th>\n",
       "      <th>f</th>\n",
       "      <th>u</th>\n",
       "      <th>c</th>\n",
       "      <th>k</th>\n",
       "    </tr>\n",
       "  </thead>\n",
       "  <tbody>\n",
       "    <tr>\n",
       "      <th>2022-05-02</th>\n",
       "      <td>-0.275867</td>\n",
       "      <td>-0.079602</td>\n",
       "      <td>0.659178</td>\n",
       "      <td>0.364791</td>\n",
       "    </tr>\n",
       "    <tr>\n",
       "      <th>2022-05-03</th>\n",
       "      <td>1.479616</td>\n",
       "      <td>-2.350214</td>\n",
       "      <td>-1.150083</td>\n",
       "      <td>1.140985</td>\n",
       "    </tr>\n",
       "    <tr>\n",
       "      <th>2022-05-04</th>\n",
       "      <td>-0.082219</td>\n",
       "      <td>0.426620</td>\n",
       "      <td>0.388050</td>\n",
       "      <td>0.569719</td>\n",
       "    </tr>\n",
       "    <tr>\n",
       "      <th>2022-05-05</th>\n",
       "      <td>-1.764424</td>\n",
       "      <td>-0.137136</td>\n",
       "      <td>0.892092</td>\n",
       "      <td>-0.742123</td>\n",
       "    </tr>\n",
       "    <tr>\n",
       "      <th>2022-05-06</th>\n",
       "      <td>0.815092</td>\n",
       "      <td>-0.808374</td>\n",
       "      <td>0.578095</td>\n",
       "      <td>-0.414305</td>\n",
       "    </tr>\n",
       "  </tbody>\n",
       "</table>\n",
       "</div>"
      ],
      "text/plain": [
       "                   f         u         c         k\n",
       "2022-05-02 -0.275867 -0.079602  0.659178  0.364791\n",
       "2022-05-03  1.479616 -2.350214 -1.150083  1.140985\n",
       "2022-05-04 -0.082219  0.426620  0.388050  0.569719\n",
       "2022-05-05 -1.764424 -0.137136  0.892092 -0.742123\n",
       "2022-05-06  0.815092 -0.808374  0.578095 -0.414305"
      ]
     },
     "execution_count": 30,
     "metadata": {},
     "output_type": "execute_result"
    }
   ],
   "source": [
    "datedd.tail()"
   ]
  },
  {
   "cell_type": "code",
   "execution_count": 35,
   "id": "2c6d14ba",
   "metadata": {},
   "outputs": [
    {
     "data": {
      "text/plain": [
       "DatetimeIndex(['2022-05-01', '2022-05-02', '2022-05-03', '2022-05-04',\n",
       "               '2022-05-05', '2022-05-06'],\n",
       "              dtype='datetime64[ns]', freq='D')"
      ]
     },
     "execution_count": 35,
     "metadata": {},
     "output_type": "execute_result"
    }
   ],
   "source": [
    "datedd.columns\n",
    "datedd.index"
   ]
  },
  {
   "cell_type": "code",
   "execution_count": 37,
   "id": "044baffa",
   "metadata": {},
   "outputs": [
    {
     "data": {
      "text/plain": [
       "array([[-0.01666826,  0.17546489, -1.31678968, -0.10142216],\n",
       "       [-0.2758674 , -0.0796015 ,  0.65917846,  0.36479054],\n",
       "       [ 1.47961624, -2.35021419, -1.15008294,  1.14098473],\n",
       "       [-0.08221926,  0.42662021,  0.38804984,  0.56971937],\n",
       "       [-1.7644239 , -0.13713649,  0.89209172, -0.74212267],\n",
       "       [ 0.81509234, -0.80837429,  0.57809497, -0.41430487]])"
      ]
     },
     "execution_count": 37,
     "metadata": {},
     "output_type": "execute_result"
    }
   ],
   "source": [
    "datedd.to_numpy()"
   ]
  },
  {
   "cell_type": "code",
   "execution_count": 38,
   "id": "c9b976e2",
   "metadata": {},
   "outputs": [
    {
     "data": {
      "text/plain": [
       "array([[ 4,  7, 10],\n",
       "       [ 5,  8, 11],\n",
       "       [ 6,  9, 12]], dtype=int64)"
      ]
     },
     "execution_count": 38,
     "metadata": {},
     "output_type": "execute_result"
    }
   ],
   "source": [
    "df.to_numpy()"
   ]
  },
  {
   "cell_type": "code",
   "execution_count": 39,
   "id": "1a7c9923",
   "metadata": {},
   "outputs": [
    {
     "data": {
      "text/html": [
       "<div>\n",
       "<style scoped>\n",
       "    .dataframe tbody tr th:only-of-type {\n",
       "        vertical-align: middle;\n",
       "    }\n",
       "\n",
       "    .dataframe tbody tr th {\n",
       "        vertical-align: top;\n",
       "    }\n",
       "\n",
       "    .dataframe thead th {\n",
       "        text-align: right;\n",
       "    }\n",
       "</style>\n",
       "<table border=\"1\" class=\"dataframe\">\n",
       "  <thead>\n",
       "    <tr style=\"text-align: right;\">\n",
       "      <th></th>\n",
       "      <th>f</th>\n",
       "      <th>u</th>\n",
       "      <th>c</th>\n",
       "      <th>k</th>\n",
       "    </tr>\n",
       "  </thead>\n",
       "  <tbody>\n",
       "    <tr>\n",
       "      <th>2022-05-01</th>\n",
       "      <td>-0.016668</td>\n",
       "      <td>0.175465</td>\n",
       "      <td>-1.316790</td>\n",
       "      <td>-0.101422</td>\n",
       "    </tr>\n",
       "    <tr>\n",
       "      <th>2022-05-02</th>\n",
       "      <td>-0.275867</td>\n",
       "      <td>-0.079602</td>\n",
       "      <td>0.659178</td>\n",
       "      <td>0.364791</td>\n",
       "    </tr>\n",
       "    <tr>\n",
       "      <th>2022-05-03</th>\n",
       "      <td>1.479616</td>\n",
       "      <td>-2.350214</td>\n",
       "      <td>-1.150083</td>\n",
       "      <td>1.140985</td>\n",
       "    </tr>\n",
       "    <tr>\n",
       "      <th>2022-05-04</th>\n",
       "      <td>-0.082219</td>\n",
       "      <td>0.426620</td>\n",
       "      <td>0.388050</td>\n",
       "      <td>0.569719</td>\n",
       "    </tr>\n",
       "    <tr>\n",
       "      <th>2022-05-05</th>\n",
       "      <td>-1.764424</td>\n",
       "      <td>-0.137136</td>\n",
       "      <td>0.892092</td>\n",
       "      <td>-0.742123</td>\n",
       "    </tr>\n",
       "    <tr>\n",
       "      <th>2022-05-06</th>\n",
       "      <td>0.815092</td>\n",
       "      <td>-0.808374</td>\n",
       "      <td>0.578095</td>\n",
       "      <td>-0.414305</td>\n",
       "    </tr>\n",
       "  </tbody>\n",
       "</table>\n",
       "</div>"
      ],
      "text/plain": [
       "                   f         u         c         k\n",
       "2022-05-01 -0.016668  0.175465 -1.316790 -0.101422\n",
       "2022-05-02 -0.275867 -0.079602  0.659178  0.364791\n",
       "2022-05-03  1.479616 -2.350214 -1.150083  1.140985\n",
       "2022-05-04 -0.082219  0.426620  0.388050  0.569719\n",
       "2022-05-05 -1.764424 -0.137136  0.892092 -0.742123\n",
       "2022-05-06  0.815092 -0.808374  0.578095 -0.414305"
      ]
     },
     "execution_count": 39,
     "metadata": {},
     "output_type": "execute_result"
    }
   ],
   "source": [
    "datedd"
   ]
  },
  {
   "cell_type": "code",
   "execution_count": 43,
   "id": "076c7da2",
   "metadata": {},
   "outputs": [
    {
     "data": {
      "text/html": [
       "<div>\n",
       "<style scoped>\n",
       "    .dataframe tbody tr th:only-of-type {\n",
       "        vertical-align: middle;\n",
       "    }\n",
       "\n",
       "    .dataframe tbody tr th {\n",
       "        vertical-align: top;\n",
       "    }\n",
       "\n",
       "    .dataframe thead th {\n",
       "        text-align: right;\n",
       "    }\n",
       "</style>\n",
       "<table border=\"1\" class=\"dataframe\">\n",
       "  <thead>\n",
       "    <tr style=\"text-align: right;\">\n",
       "      <th></th>\n",
       "      <th>f</th>\n",
       "      <th>u</th>\n",
       "      <th>c</th>\n",
       "      <th>k</th>\n",
       "    </tr>\n",
       "  </thead>\n",
       "  <tbody>\n",
       "    <tr>\n",
       "      <th>2022-05-06</th>\n",
       "      <td>0.815092</td>\n",
       "      <td>-0.808374</td>\n",
       "      <td>0.578095</td>\n",
       "      <td>-0.414305</td>\n",
       "    </tr>\n",
       "    <tr>\n",
       "      <th>2022-05-05</th>\n",
       "      <td>-1.764424</td>\n",
       "      <td>-0.137136</td>\n",
       "      <td>0.892092</td>\n",
       "      <td>-0.742123</td>\n",
       "    </tr>\n",
       "    <tr>\n",
       "      <th>2022-05-04</th>\n",
       "      <td>-0.082219</td>\n",
       "      <td>0.426620</td>\n",
       "      <td>0.388050</td>\n",
       "      <td>0.569719</td>\n",
       "    </tr>\n",
       "    <tr>\n",
       "      <th>2022-05-03</th>\n",
       "      <td>1.479616</td>\n",
       "      <td>-2.350214</td>\n",
       "      <td>-1.150083</td>\n",
       "      <td>1.140985</td>\n",
       "    </tr>\n",
       "    <tr>\n",
       "      <th>2022-05-02</th>\n",
       "      <td>-0.275867</td>\n",
       "      <td>-0.079602</td>\n",
       "      <td>0.659178</td>\n",
       "      <td>0.364791</td>\n",
       "    </tr>\n",
       "    <tr>\n",
       "      <th>2022-05-01</th>\n",
       "      <td>-0.016668</td>\n",
       "      <td>0.175465</td>\n",
       "      <td>-1.316790</td>\n",
       "      <td>-0.101422</td>\n",
       "    </tr>\n",
       "  </tbody>\n",
       "</table>\n",
       "</div>"
      ],
      "text/plain": [
       "                   f         u         c         k\n",
       "2022-05-06  0.815092 -0.808374  0.578095 -0.414305\n",
       "2022-05-05 -1.764424 -0.137136  0.892092 -0.742123\n",
       "2022-05-04 -0.082219  0.426620  0.388050  0.569719\n",
       "2022-05-03  1.479616 -2.350214 -1.150083  1.140985\n",
       "2022-05-02 -0.275867 -0.079602  0.659178  0.364791\n",
       "2022-05-01 -0.016668  0.175465 -1.316790 -0.101422"
      ]
     },
     "execution_count": 43,
     "metadata": {},
     "output_type": "execute_result"
    }
   ],
   "source": [
    "datedd.sort_index(axis=0, ascending=False)"
   ]
  },
  {
   "cell_type": "code",
   "execution_count": 58,
   "id": "093c4ce3",
   "metadata": {},
   "outputs": [
    {
     "data": {
      "text/html": [
       "<div>\n",
       "<style scoped>\n",
       "    .dataframe tbody tr th:only-of-type {\n",
       "        vertical-align: middle;\n",
       "    }\n",
       "\n",
       "    .dataframe tbody tr th {\n",
       "        vertical-align: top;\n",
       "    }\n",
       "\n",
       "    .dataframe thead th {\n",
       "        text-align: right;\n",
       "    }\n",
       "</style>\n",
       "<table border=\"1\" class=\"dataframe\">\n",
       "  <thead>\n",
       "    <tr style=\"text-align: right;\">\n",
       "      <th></th>\n",
       "      <th>f</th>\n",
       "      <th>u</th>\n",
       "      <th>c</th>\n",
       "      <th>k</th>\n",
       "    </tr>\n",
       "  </thead>\n",
       "  <tbody>\n",
       "    <tr>\n",
       "      <th>2022-05-05</th>\n",
       "      <td>-1.764424</td>\n",
       "      <td>-0.137136</td>\n",
       "      <td>0.892092</td>\n",
       "      <td>-0.742123</td>\n",
       "    </tr>\n",
       "    <tr>\n",
       "      <th>2022-05-02</th>\n",
       "      <td>-0.275867</td>\n",
       "      <td>-0.079602</td>\n",
       "      <td>0.659178</td>\n",
       "      <td>0.364791</td>\n",
       "    </tr>\n",
       "    <tr>\n",
       "      <th>2022-05-04</th>\n",
       "      <td>-0.082219</td>\n",
       "      <td>0.426620</td>\n",
       "      <td>0.388050</td>\n",
       "      <td>0.569719</td>\n",
       "    </tr>\n",
       "    <tr>\n",
       "      <th>2022-05-01</th>\n",
       "      <td>-0.016668</td>\n",
       "      <td>0.175465</td>\n",
       "      <td>-1.316790</td>\n",
       "      <td>-0.101422</td>\n",
       "    </tr>\n",
       "    <tr>\n",
       "      <th>2022-05-06</th>\n",
       "      <td>0.815092</td>\n",
       "      <td>-0.808374</td>\n",
       "      <td>0.578095</td>\n",
       "      <td>-0.414305</td>\n",
       "    </tr>\n",
       "    <tr>\n",
       "      <th>2022-05-03</th>\n",
       "      <td>1.479616</td>\n",
       "      <td>-2.350214</td>\n",
       "      <td>-1.150083</td>\n",
       "      <td>1.140985</td>\n",
       "    </tr>\n",
       "  </tbody>\n",
       "</table>\n",
       "</div>"
      ],
      "text/plain": [
       "                   f         u         c         k\n",
       "2022-05-05 -1.764424 -0.137136  0.892092 -0.742123\n",
       "2022-05-02 -0.275867 -0.079602  0.659178  0.364791\n",
       "2022-05-04 -0.082219  0.426620  0.388050  0.569719\n",
       "2022-05-01 -0.016668  0.175465 -1.316790 -0.101422\n",
       "2022-05-06  0.815092 -0.808374  0.578095 -0.414305\n",
       "2022-05-03  1.479616 -2.350214 -1.150083  1.140985"
      ]
     },
     "execution_count": 58,
     "metadata": {},
     "output_type": "execute_result"
    }
   ],
   "source": [
    "datedd.sort_values(by='f')"
   ]
  },
  {
   "cell_type": "code",
   "execution_count": 50,
   "id": "5e72f245",
   "metadata": {},
   "outputs": [
    {
     "data": {
      "text/plain": [
       "2022-05-01   -0.016668\n",
       "2022-05-02   -0.275867\n",
       "2022-05-03    1.479616\n",
       "2022-05-04   -0.082219\n",
       "2022-05-05   -1.764424\n",
       "2022-05-06    0.815092\n",
       "Freq: D, Name: f, dtype: float64"
      ]
     },
     "execution_count": 50,
     "metadata": {},
     "output_type": "execute_result"
    }
   ],
   "source": [
    "datedd['f']"
   ]
  },
  {
   "cell_type": "code",
   "execution_count": 55,
   "id": "ba307f28",
   "metadata": {},
   "outputs": [
    {
     "data": {
      "text/html": [
       "<div>\n",
       "<style scoped>\n",
       "    .dataframe tbody tr th:only-of-type {\n",
       "        vertical-align: middle;\n",
       "    }\n",
       "\n",
       "    .dataframe tbody tr th {\n",
       "        vertical-align: top;\n",
       "    }\n",
       "\n",
       "    .dataframe thead th {\n",
       "        text-align: right;\n",
       "    }\n",
       "</style>\n",
       "<table border=\"1\" class=\"dataframe\">\n",
       "  <thead>\n",
       "    <tr style=\"text-align: right;\">\n",
       "      <th></th>\n",
       "      <th>f</th>\n",
       "      <th>u</th>\n",
       "      <th>c</th>\n",
       "      <th>k</th>\n",
       "    </tr>\n",
       "  </thead>\n",
       "  <tbody>\n",
       "    <tr>\n",
       "      <th>2022-05-02</th>\n",
       "      <td>-0.275867</td>\n",
       "      <td>-0.079602</td>\n",
       "      <td>0.659178</td>\n",
       "      <td>0.364791</td>\n",
       "    </tr>\n",
       "    <tr>\n",
       "      <th>2022-05-03</th>\n",
       "      <td>1.479616</td>\n",
       "      <td>-2.350214</td>\n",
       "      <td>-1.150083</td>\n",
       "      <td>1.140985</td>\n",
       "    </tr>\n",
       "  </tbody>\n",
       "</table>\n",
       "</div>"
      ],
      "text/plain": [
       "                   f         u         c         k\n",
       "2022-05-02 -0.275867 -0.079602  0.659178  0.364791\n",
       "2022-05-03  1.479616 -2.350214 -1.150083  1.140985"
      ]
     },
     "execution_count": 55,
     "metadata": {},
     "output_type": "execute_result"
    }
   ],
   "source": [
    "datedd[1:3]"
   ]
  },
  {
   "cell_type": "code",
   "execution_count": 59,
   "id": "3264fe1b",
   "metadata": {},
   "outputs": [
    {
     "data": {
      "text/plain": [
       "2022-05-01   -0.016668\n",
       "2022-05-02   -0.275867\n",
       "2022-05-03    1.479616\n",
       "2022-05-04   -0.082219\n",
       "2022-05-05   -1.764424\n",
       "2022-05-06    0.815092\n",
       "Freq: D, Name: f, dtype: float64"
      ]
     },
     "execution_count": 59,
     "metadata": {},
     "output_type": "execute_result"
    }
   ],
   "source": [
    "datedd['f']"
   ]
  },
  {
   "cell_type": "code",
   "execution_count": 60,
   "id": "cbfc3057",
   "metadata": {},
   "outputs": [
    {
     "data": {
      "text/html": [
       "<div>\n",
       "<style scoped>\n",
       "    .dataframe tbody tr th:only-of-type {\n",
       "        vertical-align: middle;\n",
       "    }\n",
       "\n",
       "    .dataframe tbody tr th {\n",
       "        vertical-align: top;\n",
       "    }\n",
       "\n",
       "    .dataframe thead th {\n",
       "        text-align: right;\n",
       "    }\n",
       "</style>\n",
       "<table border=\"1\" class=\"dataframe\">\n",
       "  <thead>\n",
       "    <tr style=\"text-align: right;\">\n",
       "      <th></th>\n",
       "      <th>f</th>\n",
       "      <th>u</th>\n",
       "      <th>c</th>\n",
       "      <th>k</th>\n",
       "    </tr>\n",
       "  </thead>\n",
       "  <tbody>\n",
       "    <tr>\n",
       "      <th>2022-05-02</th>\n",
       "      <td>-0.275867</td>\n",
       "      <td>-0.079602</td>\n",
       "      <td>0.659178</td>\n",
       "      <td>0.364791</td>\n",
       "    </tr>\n",
       "    <tr>\n",
       "      <th>2022-05-03</th>\n",
       "      <td>1.479616</td>\n",
       "      <td>-2.350214</td>\n",
       "      <td>-1.150083</td>\n",
       "      <td>1.140985</td>\n",
       "    </tr>\n",
       "    <tr>\n",
       "      <th>2022-05-04</th>\n",
       "      <td>-0.082219</td>\n",
       "      <td>0.426620</td>\n",
       "      <td>0.388050</td>\n",
       "      <td>0.569719</td>\n",
       "    </tr>\n",
       "    <tr>\n",
       "      <th>2022-05-05</th>\n",
       "      <td>-1.764424</td>\n",
       "      <td>-0.137136</td>\n",
       "      <td>0.892092</td>\n",
       "      <td>-0.742123</td>\n",
       "    </tr>\n",
       "    <tr>\n",
       "      <th>2022-05-06</th>\n",
       "      <td>0.815092</td>\n",
       "      <td>-0.808374</td>\n",
       "      <td>0.578095</td>\n",
       "      <td>-0.414305</td>\n",
       "    </tr>\n",
       "  </tbody>\n",
       "</table>\n",
       "</div>"
      ],
      "text/plain": [
       "                   f         u         c         k\n",
       "2022-05-02 -0.275867 -0.079602  0.659178  0.364791\n",
       "2022-05-03  1.479616 -2.350214 -1.150083  1.140985\n",
       "2022-05-04 -0.082219  0.426620  0.388050  0.569719\n",
       "2022-05-05 -1.764424 -0.137136  0.892092 -0.742123\n",
       "2022-05-06  0.815092 -0.808374  0.578095 -0.414305"
      ]
     },
     "execution_count": 60,
     "metadata": {},
     "output_type": "execute_result"
    }
   ],
   "source": [
    "datedd['20220502':'20220506']"
   ]
  },
  {
   "cell_type": "code",
   "execution_count": 64,
   "id": "0ba81e7e",
   "metadata": {},
   "outputs": [
    {
     "data": {
      "text/html": [
       "<div>\n",
       "<style scoped>\n",
       "    .dataframe tbody tr th:only-of-type {\n",
       "        vertical-align: middle;\n",
       "    }\n",
       "\n",
       "    .dataframe tbody tr th {\n",
       "        vertical-align: top;\n",
       "    }\n",
       "\n",
       "    .dataframe thead th {\n",
       "        text-align: right;\n",
       "    }\n",
       "</style>\n",
       "<table border=\"1\" class=\"dataframe\">\n",
       "  <thead>\n",
       "    <tr style=\"text-align: right;\">\n",
       "      <th></th>\n",
       "      <th>f</th>\n",
       "      <th>u</th>\n",
       "      <th>c</th>\n",
       "      <th>k</th>\n",
       "    </tr>\n",
       "  </thead>\n",
       "  <tbody>\n",
       "    <tr>\n",
       "      <th>2022-05-01</th>\n",
       "      <td>-0.016668</td>\n",
       "      <td>0.175465</td>\n",
       "      <td>-1.316790</td>\n",
       "      <td>-0.101422</td>\n",
       "    </tr>\n",
       "    <tr>\n",
       "      <th>2022-05-02</th>\n",
       "      <td>-0.275867</td>\n",
       "      <td>-0.079602</td>\n",
       "      <td>0.659178</td>\n",
       "      <td>0.364791</td>\n",
       "    </tr>\n",
       "    <tr>\n",
       "      <th>2022-05-03</th>\n",
       "      <td>1.479616</td>\n",
       "      <td>-2.350214</td>\n",
       "      <td>-1.150083</td>\n",
       "      <td>1.140985</td>\n",
       "    </tr>\n",
       "    <tr>\n",
       "      <th>2022-05-04</th>\n",
       "      <td>-0.082219</td>\n",
       "      <td>0.426620</td>\n",
       "      <td>0.388050</td>\n",
       "      <td>0.569719</td>\n",
       "    </tr>\n",
       "    <tr>\n",
       "      <th>2022-05-05</th>\n",
       "      <td>-1.764424</td>\n",
       "      <td>-0.137136</td>\n",
       "      <td>0.892092</td>\n",
       "      <td>-0.742123</td>\n",
       "    </tr>\n",
       "    <tr>\n",
       "      <th>2022-05-06</th>\n",
       "      <td>0.815092</td>\n",
       "      <td>-0.808374</td>\n",
       "      <td>0.578095</td>\n",
       "      <td>-0.414305</td>\n",
       "    </tr>\n",
       "  </tbody>\n",
       "</table>\n",
       "</div>"
      ],
      "text/plain": [
       "                   f         u         c         k\n",
       "2022-05-01 -0.016668  0.175465 -1.316790 -0.101422\n",
       "2022-05-02 -0.275867 -0.079602  0.659178  0.364791\n",
       "2022-05-03  1.479616 -2.350214 -1.150083  1.140985\n",
       "2022-05-04 -0.082219  0.426620  0.388050  0.569719\n",
       "2022-05-05 -1.764424 -0.137136  0.892092 -0.742123\n",
       "2022-05-06  0.815092 -0.808374  0.578095 -0.414305"
      ]
     },
     "execution_count": 64,
     "metadata": {},
     "output_type": "execute_result"
    }
   ],
   "source": [
    "datedd"
   ]
  },
  {
   "cell_type": "code",
   "execution_count": 66,
   "id": "abd1c1dd",
   "metadata": {},
   "outputs": [
    {
     "data": {
      "text/plain": [
       "Timestamp('2022-05-01 00:00:00', freq='D')"
      ]
     },
     "execution_count": 66,
     "metadata": {},
     "output_type": "execute_result"
    }
   ],
   "source": [
    "dates[0]"
   ]
  },
  {
   "cell_type": "code",
   "execution_count": 70,
   "id": "895c4809",
   "metadata": {},
   "outputs": [
    {
     "data": {
      "text/plain": [
       "f    0.815092\n",
       "u   -0.808374\n",
       "c    0.578095\n",
       "k   -0.414305\n",
       "Name: 2022-05-06 00:00:00, dtype: float64"
      ]
     },
     "execution_count": 70,
     "metadata": {},
     "output_type": "execute_result"
    }
   ],
   "source": [
    "datedd.loc['20220506']"
   ]
  },
  {
   "cell_type": "code",
   "execution_count": 71,
   "id": "645e2e91",
   "metadata": {},
   "outputs": [
    {
     "data": {
      "text/html": [
       "<div>\n",
       "<style scoped>\n",
       "    .dataframe tbody tr th:only-of-type {\n",
       "        vertical-align: middle;\n",
       "    }\n",
       "\n",
       "    .dataframe tbody tr th {\n",
       "        vertical-align: top;\n",
       "    }\n",
       "\n",
       "    .dataframe thead th {\n",
       "        text-align: right;\n",
       "    }\n",
       "</style>\n",
       "<table border=\"1\" class=\"dataframe\">\n",
       "  <thead>\n",
       "    <tr style=\"text-align: right;\">\n",
       "      <th></th>\n",
       "      <th>f</th>\n",
       "      <th>c</th>\n",
       "    </tr>\n",
       "  </thead>\n",
       "  <tbody>\n",
       "    <tr>\n",
       "      <th>2022-05-01</th>\n",
       "      <td>-0.016668</td>\n",
       "      <td>-1.316790</td>\n",
       "    </tr>\n",
       "    <tr>\n",
       "      <th>2022-05-02</th>\n",
       "      <td>-0.275867</td>\n",
       "      <td>0.659178</td>\n",
       "    </tr>\n",
       "    <tr>\n",
       "      <th>2022-05-03</th>\n",
       "      <td>1.479616</td>\n",
       "      <td>-1.150083</td>\n",
       "    </tr>\n",
       "    <tr>\n",
       "      <th>2022-05-04</th>\n",
       "      <td>-0.082219</td>\n",
       "      <td>0.388050</td>\n",
       "    </tr>\n",
       "    <tr>\n",
       "      <th>2022-05-05</th>\n",
       "      <td>-1.764424</td>\n",
       "      <td>0.892092</td>\n",
       "    </tr>\n",
       "    <tr>\n",
       "      <th>2022-05-06</th>\n",
       "      <td>0.815092</td>\n",
       "      <td>0.578095</td>\n",
       "    </tr>\n",
       "  </tbody>\n",
       "</table>\n",
       "</div>"
      ],
      "text/plain": [
       "                   f         c\n",
       "2022-05-01 -0.016668 -1.316790\n",
       "2022-05-02 -0.275867  0.659178\n",
       "2022-05-03  1.479616 -1.150083\n",
       "2022-05-04 -0.082219  0.388050\n",
       "2022-05-05 -1.764424  0.892092\n",
       "2022-05-06  0.815092  0.578095"
      ]
     },
     "execution_count": 71,
     "metadata": {},
     "output_type": "execute_result"
    }
   ],
   "source": [
    "datedd.loc[:, ['f','c']]"
   ]
  },
  {
   "cell_type": "code",
   "execution_count": 72,
   "id": "645c2c92",
   "metadata": {},
   "outputs": [
    {
     "data": {
      "text/plain": [
       "-0.01666826106520078"
      ]
     },
     "execution_count": 72,
     "metadata": {},
     "output_type": "execute_result"
    }
   ],
   "source": [
    "datedd.loc['20220501','f']"
   ]
  },
  {
   "cell_type": "code",
   "execution_count": 74,
   "id": "3b531513",
   "metadata": {},
   "outputs": [
    {
     "data": {
      "text/html": [
       "<div>\n",
       "<style scoped>\n",
       "    .dataframe tbody tr th:only-of-type {\n",
       "        vertical-align: middle;\n",
       "    }\n",
       "\n",
       "    .dataframe tbody tr th {\n",
       "        vertical-align: top;\n",
       "    }\n",
       "\n",
       "    .dataframe thead th {\n",
       "        text-align: right;\n",
       "    }\n",
       "</style>\n",
       "<table border=\"1\" class=\"dataframe\">\n",
       "  <thead>\n",
       "    <tr style=\"text-align: right;\">\n",
       "      <th></th>\n",
       "      <th>f</th>\n",
       "      <th>u</th>\n",
       "      <th>c</th>\n",
       "      <th>k</th>\n",
       "    </tr>\n",
       "  </thead>\n",
       "  <tbody>\n",
       "    <tr>\n",
       "      <th>2022-05-01</th>\n",
       "      <td>-0.016668</td>\n",
       "      <td>0.175465</td>\n",
       "      <td>-1.316790</td>\n",
       "      <td>-0.101422</td>\n",
       "    </tr>\n",
       "    <tr>\n",
       "      <th>2022-05-02</th>\n",
       "      <td>-0.275867</td>\n",
       "      <td>-0.079602</td>\n",
       "      <td>0.659178</td>\n",
       "      <td>0.364791</td>\n",
       "    </tr>\n",
       "    <tr>\n",
       "      <th>2022-05-03</th>\n",
       "      <td>1.479616</td>\n",
       "      <td>-2.350214</td>\n",
       "      <td>-1.150083</td>\n",
       "      <td>1.140985</td>\n",
       "    </tr>\n",
       "    <tr>\n",
       "      <th>2022-05-04</th>\n",
       "      <td>-0.082219</td>\n",
       "      <td>0.426620</td>\n",
       "      <td>0.388050</td>\n",
       "      <td>0.569719</td>\n",
       "    </tr>\n",
       "    <tr>\n",
       "      <th>2022-05-05</th>\n",
       "      <td>-1.764424</td>\n",
       "      <td>-0.137136</td>\n",
       "      <td>0.892092</td>\n",
       "      <td>-0.742123</td>\n",
       "    </tr>\n",
       "    <tr>\n",
       "      <th>2022-05-06</th>\n",
       "      <td>0.815092</td>\n",
       "      <td>-0.808374</td>\n",
       "      <td>0.578095</td>\n",
       "      <td>-0.414305</td>\n",
       "    </tr>\n",
       "  </tbody>\n",
       "</table>\n",
       "</div>"
      ],
      "text/plain": [
       "                   f         u         c         k\n",
       "2022-05-01 -0.016668  0.175465 -1.316790 -0.101422\n",
       "2022-05-02 -0.275867 -0.079602  0.659178  0.364791\n",
       "2022-05-03  1.479616 -2.350214 -1.150083  1.140985\n",
       "2022-05-04 -0.082219  0.426620  0.388050  0.569719\n",
       "2022-05-05 -1.764424 -0.137136  0.892092 -0.742123\n",
       "2022-05-06  0.815092 -0.808374  0.578095 -0.414305"
      ]
     },
     "execution_count": 74,
     "metadata": {},
     "output_type": "execute_result"
    }
   ],
   "source": [
    "datedd"
   ]
  },
  {
   "cell_type": "code",
   "execution_count": 77,
   "id": "11f36f70",
   "metadata": {},
   "outputs": [
    {
     "data": {
      "text/plain": [
       "0.3880498373244847"
      ]
     },
     "execution_count": 77,
     "metadata": {},
     "output_type": "execute_result"
    }
   ],
   "source": [
    "datedd.iloc[3,2]"
   ]
  },
  {
   "cell_type": "code",
   "execution_count": 78,
   "id": "d5229cda",
   "metadata": {},
   "outputs": [
    {
     "data": {
      "text/html": [
       "<div>\n",
       "<style scoped>\n",
       "    .dataframe tbody tr th:only-of-type {\n",
       "        vertical-align: middle;\n",
       "    }\n",
       "\n",
       "    .dataframe tbody tr th {\n",
       "        vertical-align: top;\n",
       "    }\n",
       "\n",
       "    .dataframe thead th {\n",
       "        text-align: right;\n",
       "    }\n",
       "</style>\n",
       "<table border=\"1\" class=\"dataframe\">\n",
       "  <thead>\n",
       "    <tr style=\"text-align: right;\">\n",
       "      <th></th>\n",
       "      <th>f</th>\n",
       "      <th>c</th>\n",
       "    </tr>\n",
       "  </thead>\n",
       "  <tbody>\n",
       "    <tr>\n",
       "      <th>2022-05-02</th>\n",
       "      <td>-0.275867</td>\n",
       "      <td>0.659178</td>\n",
       "    </tr>\n",
       "    <tr>\n",
       "      <th>2022-05-03</th>\n",
       "      <td>1.479616</td>\n",
       "      <td>-1.150083</td>\n",
       "    </tr>\n",
       "  </tbody>\n",
       "</table>\n",
       "</div>"
      ],
      "text/plain": [
       "                   f         c\n",
       "2022-05-02 -0.275867  0.659178\n",
       "2022-05-03  1.479616 -1.150083"
      ]
     },
     "execution_count": 78,
     "metadata": {},
     "output_type": "execute_result"
    }
   ],
   "source": [
    "datedd.iloc[1:3,[0,2]]"
   ]
  },
  {
   "cell_type": "code",
   "execution_count": 79,
   "id": "c8df70d9",
   "metadata": {},
   "outputs": [
    {
     "data": {
      "text/html": [
       "<div>\n",
       "<style scoped>\n",
       "    .dataframe tbody tr th:only-of-type {\n",
       "        vertical-align: middle;\n",
       "    }\n",
       "\n",
       "    .dataframe tbody tr th {\n",
       "        vertical-align: top;\n",
       "    }\n",
       "\n",
       "    .dataframe thead th {\n",
       "        text-align: right;\n",
       "    }\n",
       "</style>\n",
       "<table border=\"1\" class=\"dataframe\">\n",
       "  <thead>\n",
       "    <tr style=\"text-align: right;\">\n",
       "      <th></th>\n",
       "      <th>f</th>\n",
       "      <th>u</th>\n",
       "      <th>c</th>\n",
       "      <th>k</th>\n",
       "    </tr>\n",
       "  </thead>\n",
       "  <tbody>\n",
       "    <tr>\n",
       "      <th>2022-05-03</th>\n",
       "      <td>1.479616</td>\n",
       "      <td>-2.350214</td>\n",
       "      <td>-1.150083</td>\n",
       "      <td>1.140985</td>\n",
       "    </tr>\n",
       "    <tr>\n",
       "      <th>2022-05-06</th>\n",
       "      <td>0.815092</td>\n",
       "      <td>-0.808374</td>\n",
       "      <td>0.578095</td>\n",
       "      <td>-0.414305</td>\n",
       "    </tr>\n",
       "  </tbody>\n",
       "</table>\n",
       "</div>"
      ],
      "text/plain": [
       "                   f         u         c         k\n",
       "2022-05-03  1.479616 -2.350214 -1.150083  1.140985\n",
       "2022-05-06  0.815092 -0.808374  0.578095 -0.414305"
      ]
     },
     "execution_count": 79,
     "metadata": {},
     "output_type": "execute_result"
    }
   ],
   "source": [
    "datedd[datedd['f']>0]"
   ]
  },
  {
   "cell_type": "code",
   "execution_count": 80,
   "id": "0509acc4",
   "metadata": {},
   "outputs": [
    {
     "data": {
      "text/html": [
       "<div>\n",
       "<style scoped>\n",
       "    .dataframe tbody tr th:only-of-type {\n",
       "        vertical-align: middle;\n",
       "    }\n",
       "\n",
       "    .dataframe tbody tr th {\n",
       "        vertical-align: top;\n",
       "    }\n",
       "\n",
       "    .dataframe thead th {\n",
       "        text-align: right;\n",
       "    }\n",
       "</style>\n",
       "<table border=\"1\" class=\"dataframe\">\n",
       "  <thead>\n",
       "    <tr style=\"text-align: right;\">\n",
       "      <th></th>\n",
       "      <th>f</th>\n",
       "      <th>u</th>\n",
       "      <th>c</th>\n",
       "      <th>k</th>\n",
       "    </tr>\n",
       "  </thead>\n",
       "  <tbody>\n",
       "    <tr>\n",
       "      <th>2022-05-01</th>\n",
       "      <td>NaN</td>\n",
       "      <td>0.175465</td>\n",
       "      <td>NaN</td>\n",
       "      <td>NaN</td>\n",
       "    </tr>\n",
       "    <tr>\n",
       "      <th>2022-05-02</th>\n",
       "      <td>NaN</td>\n",
       "      <td>NaN</td>\n",
       "      <td>0.659178</td>\n",
       "      <td>0.364791</td>\n",
       "    </tr>\n",
       "    <tr>\n",
       "      <th>2022-05-03</th>\n",
       "      <td>1.479616</td>\n",
       "      <td>NaN</td>\n",
       "      <td>NaN</td>\n",
       "      <td>1.140985</td>\n",
       "    </tr>\n",
       "    <tr>\n",
       "      <th>2022-05-04</th>\n",
       "      <td>NaN</td>\n",
       "      <td>0.426620</td>\n",
       "      <td>0.388050</td>\n",
       "      <td>0.569719</td>\n",
       "    </tr>\n",
       "    <tr>\n",
       "      <th>2022-05-05</th>\n",
       "      <td>NaN</td>\n",
       "      <td>NaN</td>\n",
       "      <td>0.892092</td>\n",
       "      <td>NaN</td>\n",
       "    </tr>\n",
       "    <tr>\n",
       "      <th>2022-05-06</th>\n",
       "      <td>0.815092</td>\n",
       "      <td>NaN</td>\n",
       "      <td>0.578095</td>\n",
       "      <td>NaN</td>\n",
       "    </tr>\n",
       "  </tbody>\n",
       "</table>\n",
       "</div>"
      ],
      "text/plain": [
       "                   f         u         c         k\n",
       "2022-05-01       NaN  0.175465       NaN       NaN\n",
       "2022-05-02       NaN       NaN  0.659178  0.364791\n",
       "2022-05-03  1.479616       NaN       NaN  1.140985\n",
       "2022-05-04       NaN  0.426620  0.388050  0.569719\n",
       "2022-05-05       NaN       NaN  0.892092       NaN\n",
       "2022-05-06  0.815092       NaN  0.578095       NaN"
      ]
     },
     "execution_count": 80,
     "metadata": {},
     "output_type": "execute_result"
    }
   ],
   "source": [
    "datedd[datedd>0]"
   ]
  },
  {
   "cell_type": "code",
   "execution_count": 81,
   "id": "3e19d4b8",
   "metadata": {},
   "outputs": [],
   "source": [
    "df2 = datedd.copy()"
   ]
  },
  {
   "cell_type": "code",
   "execution_count": 83,
   "id": "f5fec461",
   "metadata": {},
   "outputs": [
    {
     "data": {
      "text/html": [
       "<div>\n",
       "<style scoped>\n",
       "    .dataframe tbody tr th:only-of-type {\n",
       "        vertical-align: middle;\n",
       "    }\n",
       "\n",
       "    .dataframe tbody tr th {\n",
       "        vertical-align: top;\n",
       "    }\n",
       "\n",
       "    .dataframe thead th {\n",
       "        text-align: right;\n",
       "    }\n",
       "</style>\n",
       "<table border=\"1\" class=\"dataframe\">\n",
       "  <thead>\n",
       "    <tr style=\"text-align: right;\">\n",
       "      <th></th>\n",
       "      <th>f</th>\n",
       "      <th>u</th>\n",
       "      <th>c</th>\n",
       "      <th>k</th>\n",
       "    </tr>\n",
       "  </thead>\n",
       "  <tbody>\n",
       "    <tr>\n",
       "      <th>2022-05-01</th>\n",
       "      <td>-0.016668</td>\n",
       "      <td>0.175465</td>\n",
       "      <td>-1.316790</td>\n",
       "      <td>-0.101422</td>\n",
       "    </tr>\n",
       "    <tr>\n",
       "      <th>2022-05-02</th>\n",
       "      <td>-0.275867</td>\n",
       "      <td>-0.079602</td>\n",
       "      <td>0.659178</td>\n",
       "      <td>0.364791</td>\n",
       "    </tr>\n",
       "    <tr>\n",
       "      <th>2022-05-03</th>\n",
       "      <td>1.479616</td>\n",
       "      <td>-2.350214</td>\n",
       "      <td>-1.150083</td>\n",
       "      <td>1.140985</td>\n",
       "    </tr>\n",
       "    <tr>\n",
       "      <th>2022-05-04</th>\n",
       "      <td>-0.082219</td>\n",
       "      <td>0.426620</td>\n",
       "      <td>0.388050</td>\n",
       "      <td>0.569719</td>\n",
       "    </tr>\n",
       "    <tr>\n",
       "      <th>2022-05-05</th>\n",
       "      <td>-1.764424</td>\n",
       "      <td>-0.137136</td>\n",
       "      <td>0.892092</td>\n",
       "      <td>-0.742123</td>\n",
       "    </tr>\n",
       "    <tr>\n",
       "      <th>2022-05-06</th>\n",
       "      <td>0.815092</td>\n",
       "      <td>-0.808374</td>\n",
       "      <td>0.578095</td>\n",
       "      <td>-0.414305</td>\n",
       "    </tr>\n",
       "  </tbody>\n",
       "</table>\n",
       "</div>"
      ],
      "text/plain": [
       "                   f         u         c         k\n",
       "2022-05-01 -0.016668  0.175465 -1.316790 -0.101422\n",
       "2022-05-02 -0.275867 -0.079602  0.659178  0.364791\n",
       "2022-05-03  1.479616 -2.350214 -1.150083  1.140985\n",
       "2022-05-04 -0.082219  0.426620  0.388050  0.569719\n",
       "2022-05-05 -1.764424 -0.137136  0.892092 -0.742123\n",
       "2022-05-06  0.815092 -0.808374  0.578095 -0.414305"
      ]
     },
     "execution_count": 83,
     "metadata": {},
     "output_type": "execute_result"
    }
   ],
   "source": [
    "df2"
   ]
  },
  {
   "cell_type": "code",
   "execution_count": 84,
   "id": "42b49fb7",
   "metadata": {},
   "outputs": [
    {
     "data": {
      "text/html": [
       "<div>\n",
       "<style scoped>\n",
       "    .dataframe tbody tr th:only-of-type {\n",
       "        vertical-align: middle;\n",
       "    }\n",
       "\n",
       "    .dataframe tbody tr th {\n",
       "        vertical-align: top;\n",
       "    }\n",
       "\n",
       "    .dataframe thead th {\n",
       "        text-align: right;\n",
       "    }\n",
       "</style>\n",
       "<table border=\"1\" class=\"dataframe\">\n",
       "  <thead>\n",
       "    <tr style=\"text-align: right;\">\n",
       "      <th></th>\n",
       "      <th>f</th>\n",
       "      <th>u</th>\n",
       "      <th>c</th>\n",
       "      <th>k</th>\n",
       "      <th>n</th>\n",
       "    </tr>\n",
       "  </thead>\n",
       "  <tbody>\n",
       "    <tr>\n",
       "      <th>2022-05-01</th>\n",
       "      <td>-0.016668</td>\n",
       "      <td>0.175465</td>\n",
       "      <td>-1.316790</td>\n",
       "      <td>-0.101422</td>\n",
       "      <td>one</td>\n",
       "    </tr>\n",
       "    <tr>\n",
       "      <th>2022-05-02</th>\n",
       "      <td>-0.275867</td>\n",
       "      <td>-0.079602</td>\n",
       "      <td>0.659178</td>\n",
       "      <td>0.364791</td>\n",
       "      <td>two</td>\n",
       "    </tr>\n",
       "    <tr>\n",
       "      <th>2022-05-03</th>\n",
       "      <td>1.479616</td>\n",
       "      <td>-2.350214</td>\n",
       "      <td>-1.150083</td>\n",
       "      <td>1.140985</td>\n",
       "      <td>three</td>\n",
       "    </tr>\n",
       "    <tr>\n",
       "      <th>2022-05-04</th>\n",
       "      <td>-0.082219</td>\n",
       "      <td>0.426620</td>\n",
       "      <td>0.388050</td>\n",
       "      <td>0.569719</td>\n",
       "      <td>four</td>\n",
       "    </tr>\n",
       "    <tr>\n",
       "      <th>2022-05-05</th>\n",
       "      <td>-1.764424</td>\n",
       "      <td>-0.137136</td>\n",
       "      <td>0.892092</td>\n",
       "      <td>-0.742123</td>\n",
       "      <td>five</td>\n",
       "    </tr>\n",
       "    <tr>\n",
       "      <th>2022-05-06</th>\n",
       "      <td>0.815092</td>\n",
       "      <td>-0.808374</td>\n",
       "      <td>0.578095</td>\n",
       "      <td>-0.414305</td>\n",
       "      <td>six</td>\n",
       "    </tr>\n",
       "  </tbody>\n",
       "</table>\n",
       "</div>"
      ],
      "text/plain": [
       "                   f         u         c         k      n\n",
       "2022-05-01 -0.016668  0.175465 -1.316790 -0.101422    one\n",
       "2022-05-02 -0.275867 -0.079602  0.659178  0.364791    two\n",
       "2022-05-03  1.479616 -2.350214 -1.150083  1.140985  three\n",
       "2022-05-04 -0.082219  0.426620  0.388050  0.569719   four\n",
       "2022-05-05 -1.764424 -0.137136  0.892092 -0.742123   five\n",
       "2022-05-06  0.815092 -0.808374  0.578095 -0.414305    six"
      ]
     },
     "execution_count": 84,
     "metadata": {},
     "output_type": "execute_result"
    }
   ],
   "source": [
    "df2['n']=['one', 'two', 'three', 'four', 'five', 'six']\n",
    "df2"
   ]
  },
  {
   "cell_type": "code",
   "execution_count": 85,
   "id": "08f9995f",
   "metadata": {},
   "outputs": [
    {
     "data": {
      "text/html": [
       "<div>\n",
       "<style scoped>\n",
       "    .dataframe tbody tr th:only-of-type {\n",
       "        vertical-align: middle;\n",
       "    }\n",
       "\n",
       "    .dataframe tbody tr th {\n",
       "        vertical-align: top;\n",
       "    }\n",
       "\n",
       "    .dataframe thead th {\n",
       "        text-align: right;\n",
       "    }\n",
       "</style>\n",
       "<table border=\"1\" class=\"dataframe\">\n",
       "  <thead>\n",
       "    <tr style=\"text-align: right;\">\n",
       "      <th></th>\n",
       "      <th>f</th>\n",
       "      <th>u</th>\n",
       "      <th>c</th>\n",
       "      <th>k</th>\n",
       "      <th>n</th>\n",
       "    </tr>\n",
       "  </thead>\n",
       "  <tbody>\n",
       "    <tr>\n",
       "      <th>2022-05-03</th>\n",
       "      <td>1.479616</td>\n",
       "      <td>-2.350214</td>\n",
       "      <td>-1.150083</td>\n",
       "      <td>1.140985</td>\n",
       "      <td>three</td>\n",
       "    </tr>\n",
       "    <tr>\n",
       "      <th>2022-05-04</th>\n",
       "      <td>-0.082219</td>\n",
       "      <td>0.426620</td>\n",
       "      <td>0.388050</td>\n",
       "      <td>0.569719</td>\n",
       "      <td>four</td>\n",
       "    </tr>\n",
       "  </tbody>\n",
       "</table>\n",
       "</div>"
      ],
      "text/plain": [
       "                   f         u         c         k      n\n",
       "2022-05-03  1.479616 -2.350214 -1.150083  1.140985  three\n",
       "2022-05-04 -0.082219  0.426620  0.388050  0.569719   four"
      ]
     },
     "execution_count": 85,
     "metadata": {},
     "output_type": "execute_result"
    }
   ],
   "source": [
    "df2[df2['n'].isin(['three','four'])]"
   ]
  },
  {
   "cell_type": "code",
   "execution_count": 86,
   "id": "c4c9cdce",
   "metadata": {},
   "outputs": [
    {
     "data": {
      "text/html": [
       "<div>\n",
       "<style scoped>\n",
       "    .dataframe tbody tr th:only-of-type {\n",
       "        vertical-align: middle;\n",
       "    }\n",
       "\n",
       "    .dataframe tbody tr th {\n",
       "        vertical-align: top;\n",
       "    }\n",
       "\n",
       "    .dataframe thead th {\n",
       "        text-align: right;\n",
       "    }\n",
       "</style>\n",
       "<table border=\"1\" class=\"dataframe\">\n",
       "  <thead>\n",
       "    <tr style=\"text-align: right;\">\n",
       "      <th></th>\n",
       "      <th>f</th>\n",
       "      <th>u</th>\n",
       "      <th>c</th>\n",
       "      <th>k</th>\n",
       "      <th>n</th>\n",
       "    </tr>\n",
       "  </thead>\n",
       "  <tbody>\n",
       "    <tr>\n",
       "      <th>2022-05-01</th>\n",
       "      <td>-0.016668</td>\n",
       "      <td>0.175465</td>\n",
       "      <td>-1.316790</td>\n",
       "      <td>-0.101422</td>\n",
       "      <td>one</td>\n",
       "    </tr>\n",
       "    <tr>\n",
       "      <th>2022-05-02</th>\n",
       "      <td>-0.275867</td>\n",
       "      <td>-0.079602</td>\n",
       "      <td>0.659178</td>\n",
       "      <td>0.364791</td>\n",
       "      <td>two</td>\n",
       "    </tr>\n",
       "    <tr>\n",
       "      <th>2022-05-03</th>\n",
       "      <td>1.479616</td>\n",
       "      <td>-2.350214</td>\n",
       "      <td>-1.150083</td>\n",
       "      <td>1.140985</td>\n",
       "      <td>three</td>\n",
       "    </tr>\n",
       "    <tr>\n",
       "      <th>2022-05-04</th>\n",
       "      <td>-0.082219</td>\n",
       "      <td>0.426620</td>\n",
       "      <td>0.388050</td>\n",
       "      <td>0.569719</td>\n",
       "      <td>four</td>\n",
       "    </tr>\n",
       "    <tr>\n",
       "      <th>2022-05-05</th>\n",
       "      <td>-1.764424</td>\n",
       "      <td>-0.137136</td>\n",
       "      <td>0.892092</td>\n",
       "      <td>-0.742123</td>\n",
       "      <td>five</td>\n",
       "    </tr>\n",
       "    <tr>\n",
       "      <th>2022-05-06</th>\n",
       "      <td>0.815092</td>\n",
       "      <td>-0.808374</td>\n",
       "      <td>0.578095</td>\n",
       "      <td>-0.414305</td>\n",
       "      <td>six</td>\n",
       "    </tr>\n",
       "  </tbody>\n",
       "</table>\n",
       "</div>"
      ],
      "text/plain": [
       "                   f         u         c         k      n\n",
       "2022-05-01 -0.016668  0.175465 -1.316790 -0.101422    one\n",
       "2022-05-02 -0.275867 -0.079602  0.659178  0.364791    two\n",
       "2022-05-03  1.479616 -2.350214 -1.150083  1.140985  three\n",
       "2022-05-04 -0.082219  0.426620  0.388050  0.569719   four\n",
       "2022-05-05 -1.764424 -0.137136  0.892092 -0.742123   five\n",
       "2022-05-06  0.815092 -0.808374  0.578095 -0.414305    six"
      ]
     },
     "execution_count": 86,
     "metadata": {},
     "output_type": "execute_result"
    }
   ],
   "source": [
    "df2"
   ]
  },
  {
   "cell_type": "code",
   "execution_count": 88,
   "id": "c68fe2c0",
   "metadata": {},
   "outputs": [
    {
     "data": {
      "text/plain": [
       "2013-01-02    1\n",
       "2013-01-03    2\n",
       "2013-01-04    3\n",
       "2013-01-05    4\n",
       "2013-01-06    5\n",
       "2013-01-07    6\n",
       "Freq: D, dtype: int64"
      ]
     },
     "execution_count": 88,
     "metadata": {},
     "output_type": "execute_result"
    }
   ],
   "source": [
    "s1 = pd.Series([1,2,3,4,5,6], index=pd.date_range('20130102', periods=6))\n",
    "s1"
   ]
  },
  {
   "cell_type": "code",
   "execution_count": 91,
   "id": "efccd49b",
   "metadata": {},
   "outputs": [],
   "source": [
    "df2['y']=s1"
   ]
  },
  {
   "cell_type": "code",
   "execution_count": 92,
   "id": "959db981",
   "metadata": {},
   "outputs": [
    {
     "data": {
      "text/html": [
       "<div>\n",
       "<style scoped>\n",
       "    .dataframe tbody tr th:only-of-type {\n",
       "        vertical-align: middle;\n",
       "    }\n",
       "\n",
       "    .dataframe tbody tr th {\n",
       "        vertical-align: top;\n",
       "    }\n",
       "\n",
       "    .dataframe thead th {\n",
       "        text-align: right;\n",
       "    }\n",
       "</style>\n",
       "<table border=\"1\" class=\"dataframe\">\n",
       "  <thead>\n",
       "    <tr style=\"text-align: right;\">\n",
       "      <th></th>\n",
       "      <th>f</th>\n",
       "      <th>u</th>\n",
       "      <th>c</th>\n",
       "      <th>k</th>\n",
       "      <th>n</th>\n",
       "      <th>y</th>\n",
       "    </tr>\n",
       "  </thead>\n",
       "  <tbody>\n",
       "    <tr>\n",
       "      <th>2022-05-01</th>\n",
       "      <td>-0.016668</td>\n",
       "      <td>0.175465</td>\n",
       "      <td>-1.316790</td>\n",
       "      <td>-0.101422</td>\n",
       "      <td>one</td>\n",
       "      <td>NaN</td>\n",
       "    </tr>\n",
       "    <tr>\n",
       "      <th>2022-05-02</th>\n",
       "      <td>-0.275867</td>\n",
       "      <td>-0.079602</td>\n",
       "      <td>0.659178</td>\n",
       "      <td>0.364791</td>\n",
       "      <td>two</td>\n",
       "      <td>NaN</td>\n",
       "    </tr>\n",
       "    <tr>\n",
       "      <th>2022-05-03</th>\n",
       "      <td>1.479616</td>\n",
       "      <td>-2.350214</td>\n",
       "      <td>-1.150083</td>\n",
       "      <td>1.140985</td>\n",
       "      <td>three</td>\n",
       "      <td>NaN</td>\n",
       "    </tr>\n",
       "    <tr>\n",
       "      <th>2022-05-04</th>\n",
       "      <td>-0.082219</td>\n",
       "      <td>0.426620</td>\n",
       "      <td>0.388050</td>\n",
       "      <td>0.569719</td>\n",
       "      <td>four</td>\n",
       "      <td>NaN</td>\n",
       "    </tr>\n",
       "    <tr>\n",
       "      <th>2022-05-05</th>\n",
       "      <td>-1.764424</td>\n",
       "      <td>-0.137136</td>\n",
       "      <td>0.892092</td>\n",
       "      <td>-0.742123</td>\n",
       "      <td>five</td>\n",
       "      <td>NaN</td>\n",
       "    </tr>\n",
       "    <tr>\n",
       "      <th>2022-05-06</th>\n",
       "      <td>0.815092</td>\n",
       "      <td>-0.808374</td>\n",
       "      <td>0.578095</td>\n",
       "      <td>-0.414305</td>\n",
       "      <td>six</td>\n",
       "      <td>NaN</td>\n",
       "    </tr>\n",
       "  </tbody>\n",
       "</table>\n",
       "</div>"
      ],
      "text/plain": [
       "                   f         u         c         k      n   y\n",
       "2022-05-01 -0.016668  0.175465 -1.316790 -0.101422    one NaN\n",
       "2022-05-02 -0.275867 -0.079602  0.659178  0.364791    two NaN\n",
       "2022-05-03  1.479616 -2.350214 -1.150083  1.140985  three NaN\n",
       "2022-05-04 -0.082219  0.426620  0.388050  0.569719   four NaN\n",
       "2022-05-05 -1.764424 -0.137136  0.892092 -0.742123   five NaN\n",
       "2022-05-06  0.815092 -0.808374  0.578095 -0.414305    six NaN"
      ]
     },
     "execution_count": 92,
     "metadata": {},
     "output_type": "execute_result"
    }
   ],
   "source": [
    "df2"
   ]
  },
  {
   "cell_type": "code",
   "execution_count": 93,
   "id": "01a750f4",
   "metadata": {},
   "outputs": [],
   "source": [
    "df2.loc[dates[0],'c']=0"
   ]
  },
  {
   "cell_type": "code",
   "execution_count": 94,
   "id": "590a3404",
   "metadata": {},
   "outputs": [
    {
     "data": {
      "text/html": [
       "<div>\n",
       "<style scoped>\n",
       "    .dataframe tbody tr th:only-of-type {\n",
       "        vertical-align: middle;\n",
       "    }\n",
       "\n",
       "    .dataframe tbody tr th {\n",
       "        vertical-align: top;\n",
       "    }\n",
       "\n",
       "    .dataframe thead th {\n",
       "        text-align: right;\n",
       "    }\n",
       "</style>\n",
       "<table border=\"1\" class=\"dataframe\">\n",
       "  <thead>\n",
       "    <tr style=\"text-align: right;\">\n",
       "      <th></th>\n",
       "      <th>f</th>\n",
       "      <th>u</th>\n",
       "      <th>c</th>\n",
       "      <th>k</th>\n",
       "      <th>n</th>\n",
       "      <th>y</th>\n",
       "    </tr>\n",
       "  </thead>\n",
       "  <tbody>\n",
       "    <tr>\n",
       "      <th>2022-05-01</th>\n",
       "      <td>-0.016668</td>\n",
       "      <td>0.175465</td>\n",
       "      <td>0.000000</td>\n",
       "      <td>-0.101422</td>\n",
       "      <td>one</td>\n",
       "      <td>NaN</td>\n",
       "    </tr>\n",
       "    <tr>\n",
       "      <th>2022-05-02</th>\n",
       "      <td>-0.275867</td>\n",
       "      <td>-0.079602</td>\n",
       "      <td>0.659178</td>\n",
       "      <td>0.364791</td>\n",
       "      <td>two</td>\n",
       "      <td>NaN</td>\n",
       "    </tr>\n",
       "    <tr>\n",
       "      <th>2022-05-03</th>\n",
       "      <td>1.479616</td>\n",
       "      <td>-2.350214</td>\n",
       "      <td>-1.150083</td>\n",
       "      <td>1.140985</td>\n",
       "      <td>three</td>\n",
       "      <td>NaN</td>\n",
       "    </tr>\n",
       "    <tr>\n",
       "      <th>2022-05-04</th>\n",
       "      <td>-0.082219</td>\n",
       "      <td>0.426620</td>\n",
       "      <td>0.388050</td>\n",
       "      <td>0.569719</td>\n",
       "      <td>four</td>\n",
       "      <td>NaN</td>\n",
       "    </tr>\n",
       "    <tr>\n",
       "      <th>2022-05-05</th>\n",
       "      <td>-1.764424</td>\n",
       "      <td>-0.137136</td>\n",
       "      <td>0.892092</td>\n",
       "      <td>-0.742123</td>\n",
       "      <td>five</td>\n",
       "      <td>NaN</td>\n",
       "    </tr>\n",
       "    <tr>\n",
       "      <th>2022-05-06</th>\n",
       "      <td>0.815092</td>\n",
       "      <td>-0.808374</td>\n",
       "      <td>0.578095</td>\n",
       "      <td>-0.414305</td>\n",
       "      <td>six</td>\n",
       "      <td>NaN</td>\n",
       "    </tr>\n",
       "  </tbody>\n",
       "</table>\n",
       "</div>"
      ],
      "text/plain": [
       "                   f         u         c         k      n   y\n",
       "2022-05-01 -0.016668  0.175465  0.000000 -0.101422    one NaN\n",
       "2022-05-02 -0.275867 -0.079602  0.659178  0.364791    two NaN\n",
       "2022-05-03  1.479616 -2.350214 -1.150083  1.140985  three NaN\n",
       "2022-05-04 -0.082219  0.426620  0.388050  0.569719   four NaN\n",
       "2022-05-05 -1.764424 -0.137136  0.892092 -0.742123   five NaN\n",
       "2022-05-06  0.815092 -0.808374  0.578095 -0.414305    six NaN"
      ]
     },
     "execution_count": 94,
     "metadata": {},
     "output_type": "execute_result"
    }
   ],
   "source": [
    "df2"
   ]
  },
  {
   "cell_type": "code",
   "execution_count": null,
   "id": "3eaaac9e",
   "metadata": {},
   "outputs": [],
   "source": []
  }
 ],
 "metadata": {
  "kernelspec": {
   "display_name": "Python 3 (ipykernel)",
   "language": "python",
   "name": "python3"
  },
  "language_info": {
   "codemirror_mode": {
    "name": "ipython",
    "version": 3
   },
   "file_extension": ".py",
   "mimetype": "text/x-python",
   "name": "python",
   "nbconvert_exporter": "python",
   "pygments_lexer": "ipython3",
   "version": "3.9.5"
  }
 },
 "nbformat": 4,
 "nbformat_minor": 5
}
