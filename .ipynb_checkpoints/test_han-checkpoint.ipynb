{
 "cells": [
  {
   "cell_type": "code",
   "execution_count": 1,
   "id": "aea8285a",
   "metadata": {},
   "outputs": [],
   "source": [
    "msg = \"hello world\""
   ]
  },
  {
   "cell_type": "code",
   "execution_count": 2,
   "id": "84e72cf6",
   "metadata": {},
   "outputs": [
    {
     "data": {
      "text/plain": [
       "'hello world'"
      ]
     },
     "execution_count": 2,
     "metadata": {},
     "output_type": "execute_result"
    }
   ],
   "source": [
    "msg"
   ]
  },
  {
   "cell_type": "code",
   "execution_count": 5,
   "id": "1d451d93",
   "metadata": {},
   "outputs": [
    {
     "data": {
      "text/plain": [
       "'HELLO WORLD'"
      ]
     },
     "execution_count": 5,
     "metadata": {},
     "output_type": "execute_result"
    }
   ],
   "source": [
    "msg.upper()"
   ]
  },
  {
   "cell_type": "code",
   "execution_count": 7,
   "id": "f4007cd7",
   "metadata": {},
   "outputs": [
    {
     "data": {
      "text/plain": [
       "'hello world'"
      ]
     },
     "execution_count": 7,
     "metadata": {},
     "output_type": "execute_result"
    }
   ],
   "source": [
    "msg.lower()"
   ]
  },
  {
   "cell_type": "code",
   "execution_count": 8,
   "id": "97633222",
   "metadata": {},
   "outputs": [
    {
     "ename": "AttributeError",
     "evalue": "'str' object has no attribute 'append'",
     "output_type": "error",
     "traceback": [
      "\u001b[1;31m---------------------------------------------------------------------------\u001b[0m",
      "\u001b[1;31mAttributeError\u001b[0m                            Traceback (most recent call last)",
      "Input \u001b[1;32mIn [8]\u001b[0m, in \u001b[0;36m<cell line: 1>\u001b[1;34m()\u001b[0m\n\u001b[1;32m----> 1\u001b[0m \u001b[43mmsg\u001b[49m\u001b[38;5;241;43m.\u001b[39;49m\u001b[43mappend\u001b[49m(\u001b[38;5;124m\"\u001b[39m\u001b[38;5;124mpython\u001b[39m\u001b[38;5;124m\"\u001b[39m)\n",
      "\u001b[1;31mAttributeError\u001b[0m: 'str' object has no attribute 'append'"
     ]
    }
   ],
   "source": [
    "msg.append(\"python\")"
   ]
  },
  {
   "cell_type": "code",
   "execution_count": 9,
   "id": "8310dcde",
   "metadata": {},
   "outputs": [],
   "source": [
    "lang = [msg]"
   ]
  },
  {
   "cell_type": "code",
   "execution_count": 10,
   "id": "91fd7b37",
   "metadata": {},
   "outputs": [
    {
     "data": {
      "text/plain": [
       "['hello world']"
      ]
     },
     "execution_count": 10,
     "metadata": {},
     "output_type": "execute_result"
    }
   ],
   "source": [
    "lang"
   ]
  },
  {
   "cell_type": "code",
   "execution_count": 11,
   "id": "ca1eb4bd",
   "metadata": {},
   "outputs": [],
   "source": [
    "lang.append(\"python\")"
   ]
  },
  {
   "cell_type": "code",
   "execution_count": 12,
   "id": "d15d5036",
   "metadata": {},
   "outputs": [
    {
     "data": {
      "text/plain": [
       "['hello world', 'python']"
      ]
     },
     "execution_count": 12,
     "metadata": {},
     "output_type": "execute_result"
    }
   ],
   "source": [
    "lang"
   ]
  },
  {
   "cell_type": "code",
   "execution_count": 13,
   "id": "997346c0",
   "metadata": {},
   "outputs": [
    {
     "data": {
      "text/plain": [
       "'python'"
      ]
     },
     "execution_count": 13,
     "metadata": {},
     "output_type": "execute_result"
    }
   ],
   "source": [
    "lang[1]"
   ]
  },
  {
   "cell_type": "code",
   "execution_count": 14,
   "id": "75ac88a6",
   "metadata": {},
   "outputs": [
    {
     "data": {
      "text/plain": [
       "'python'"
      ]
     },
     "execution_count": 14,
     "metadata": {},
     "output_type": "execute_result"
    }
   ],
   "source": [
    "lang[-1]"
   ]
  },
  {
   "cell_type": "code",
   "execution_count": 15,
   "id": "6cd715d6",
   "metadata": {},
   "outputs": [],
   "source": [
    "lang.append(\"c\")"
   ]
  },
  {
   "cell_type": "code",
   "execution_count": 16,
   "id": "af996014",
   "metadata": {},
   "outputs": [],
   "source": [
    "lang.append(\"java\")"
   ]
  },
  {
   "cell_type": "code",
   "execution_count": 17,
   "id": "22aee797",
   "metadata": {},
   "outputs": [
    {
     "name": "stdout",
     "output_type": "stream",
     "text": [
      "not java!\n",
      "not java!\n",
      "not java!\n",
      "java!\n"
     ]
    }
   ],
   "source": [
    "for i in lang:\n",
    "    if i == \"java\":\n",
    "        print(\"java!\")\n",
    "    else:\n",
    "        print(\"not java!\")"
   ]
  },
  {
   "cell_type": "code",
   "execution_count": 22,
   "id": "fa8a4e79",
   "metadata": {},
   "outputs": [
    {
     "name": "stdout",
     "output_type": "stream",
     "text": [
      "else\n",
      "2의 약수 2\n",
      "else\n",
      "2의 약수 4\n"
     ]
    }
   ],
   "source": [
    "for i in range(1,5):\n",
    "    if i%2==0:\n",
    "        print(\"2의 약수\", i)\n",
    "    else:\n",
    "        print(\"else\")"
   ]
  },
  {
   "cell_type": "code",
   "execution_count": 24,
   "id": "e14060a4",
   "metadata": {},
   "outputs": [
    {
     "name": "stdout",
     "output_type": "stream",
     "text": [
      "0 hello world\n",
      "1 python\n",
      "2 c\n",
      "3 java\n"
     ]
    }
   ],
   "source": [
    "for i , val in enumerate(lang):\n",
    "    print(i , val)"
   ]
  },
  {
   "cell_type": "code",
   "execution_count": 25,
   "id": "0b8cea61",
   "metadata": {},
   "outputs": [],
   "source": [
    "address = \" 충북 청주시 상당구 용담동 \""
   ]
  },
  {
   "cell_type": "code",
   "execution_count": 26,
   "id": "5ff03c78",
   "metadata": {},
   "outputs": [
    {
     "data": {
      "text/plain": [
       "' 충북 청주시 상당구 용담동 '"
      ]
     },
     "execution_count": 26,
     "metadata": {},
     "output_type": "execute_result"
    }
   ],
   "source": [
    "address"
   ]
  },
  {
   "cell_type": "code",
   "execution_count": 39,
   "id": "9e6751d6",
   "metadata": {},
   "outputs": [
    {
     "data": {
      "text/plain": [
       "'충북 청주시 상당구 용담동'"
      ]
     },
     "execution_count": 39,
     "metadata": {},
     "output_type": "execute_result"
    }
   ],
   "source": [
    "address = address.strip()\n",
    "address"
   ]
  },
  {
   "cell_type": "code",
   "execution_count": 40,
   "id": "97a11476",
   "metadata": {},
   "outputs": [
    {
     "data": {
      "text/plain": [
       "14"
      ]
     },
     "execution_count": 40,
     "metadata": {},
     "output_type": "execute_result"
    }
   ],
   "source": [
    "len(address) # 공백 포함"
   ]
  },
  {
   "cell_type": "code",
   "execution_count": 41,
   "id": "b0cc81c0",
   "metadata": {},
   "outputs": [
    {
     "data": {
      "text/plain": [
       "'충북 청주시'"
      ]
     },
     "execution_count": 41,
     "metadata": {},
     "output_type": "execute_result"
    }
   ],
   "source": [
    "city = address[:6]\n",
    "city"
   ]
  },
  {
   "cell_type": "code",
   "execution_count": 42,
   "id": "aa18a3d5",
   "metadata": {},
   "outputs": [
    {
     "data": {
      "text/plain": [
       "False"
      ]
     },
     "execution_count": 42,
     "metadata": {},
     "output_type": "execute_result"
    }
   ],
   "source": [
    "address.startswith(\"서울\")"
   ]
  },
  {
   "cell_type": "code",
   "execution_count": 43,
   "id": "2aff1751",
   "metadata": {},
   "outputs": [
    {
     "data": {
      "text/plain": [
       "False"
      ]
     },
     "execution_count": 43,
     "metadata": {},
     "output_type": "execute_result"
    }
   ],
   "source": [
    "\"경기\" in address"
   ]
  },
  {
   "cell_type": "code",
   "execution_count": 47,
   "id": "76ac2310",
   "metadata": {},
   "outputs": [],
   "source": [
    "address_list =address.split()"
   ]
  },
  {
   "cell_type": "code",
   "execution_count": 48,
   "id": "158d7a6a",
   "metadata": {},
   "outputs": [
    {
     "data": {
      "text/plain": [
       "['충북', '청주시', '상당구', '용담동']"
      ]
     },
     "execution_count": 48,
     "metadata": {},
     "output_type": "execute_result"
    }
   ],
   "source": [
    "address_list"
   ]
  },
  {
   "cell_type": "code",
   "execution_count": 49,
   "id": "88e0cb3a",
   "metadata": {},
   "outputs": [],
   "source": [
    "gu = address_list[2]"
   ]
  },
  {
   "cell_type": "code",
   "execution_count": 50,
   "id": "95a9adc4",
   "metadata": {},
   "outputs": [
    {
     "data": {
      "text/plain": [
       "'상당구'"
      ]
     },
     "execution_count": 50,
     "metadata": {},
     "output_type": "execute_result"
    }
   ],
   "source": [
    "gu"
   ]
  },
  {
   "cell_type": "code",
   "execution_count": 53,
   "id": "0e80095f",
   "metadata": {},
   "outputs": [
    {
     "data": {
      "text/plain": [
       "'충북청주시상당구용담동'"
      ]
     },
     "execution_count": 53,
     "metadata": {},
     "output_type": "execute_result"
    }
   ],
   "source": [
    "\"\".join(address_list) #분리되어 있던 문자열들을 다시 ''안에 조합(join)"
   ]
  },
  {
   "cell_type": "code",
   "execution_count": null,
   "id": "049df687",
   "metadata": {},
   "outputs": [],
   "source": []
  }
 ],
 "metadata": {
  "kernelspec": {
   "display_name": "Python 3 (ipykernel)",
   "language": "python",
   "name": "python3"
  },
  "language_info": {
   "codemirror_mode": {
    "name": "ipython",
    "version": 3
   },
   "file_extension": ".py",
   "mimetype": "text/x-python",
   "name": "python",
   "nbconvert_exporter": "python",
   "pygments_lexer": "ipython3",
   "version": "3.9.5"
  }
 },
 "nbformat": 4,
 "nbformat_minor": 5
}
