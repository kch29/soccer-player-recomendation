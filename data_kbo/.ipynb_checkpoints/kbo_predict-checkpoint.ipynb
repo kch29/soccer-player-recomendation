{
 "cells": [
  {
   "cell_type": "code",
   "execution_count": 14,
   "id": "df276688",
   "metadata": {},
   "outputs": [],
   "source": [
    "import pandas as pd\n",
    "\n",
    "player_data_kbo = pd.read_csv(\"kbo_yearly_foreigners_2011_2018.csv\")\n",
    "player_data_kbo_in_MLB = pd.read_csv(\"fangraphs_foreigners_2011_2018.csv\")\n",
    "new_player_in_MLB = pd.read_csv(\"fangraphs_foreigners_2019.csv\")\n"
   ]
  },
  {
   "cell_type": "code",
   "execution_count": 15,
   "id": "0bf04a7e",
   "metadata": {},
   "outputs": [
    {
     "name": "stdout",
     "output_type": "stream",
     "text": [
      "(105, 11)\n",
      "(205, 19)\n",
      "(41, 19)\n"
     ]
    }
   ],
   "source": [
    "print(player_data_kbo.shape) #105개의 행, 11개의 열\n",
    "print(player_data_kbo_in_MLB.shape) #205개의 행, 19개의 열\n",
    "print(new_player_in_MLB.shape) #41개의 행, 19개의 열"
   ]
  },
  {
   "cell_type": "code",
   "execution_count": 16,
   "id": "1fac02fb",
   "metadata": {},
   "outputs": [
    {
     "name": "stdout",
     "output_type": "stream",
     "text": [
      "Index(['pitcher_name', 'year', 'team', 'ERA', 'TBF', 'H', 'HR', 'BB', 'HBP',\n",
      "       'SO', 'year_born'],\n",
      "      dtype='object')\n",
      "Index(['pitcher_name', 'year', 'ERA', 'WAR', 'TBF', 'H', 'HR', 'BB', 'HBP',\n",
      "       'SO', 'WHIP', 'BABIP', 'FIP', 'LD%', 'GB%', 'FB%', 'IFFB%', 'SwStr%',\n",
      "       'Swing%'],\n",
      "      dtype='object')\n",
      "Index(['pitcher_name', 'year', 'ERA', 'WAR', 'TBF', 'H', 'HR', 'BB', 'HBP',\n",
      "       'SO', 'WHIP', 'BABIP', 'FIP', 'LD%', 'GB%', 'FB%', 'IFFB%', 'SwStr%',\n",
      "       'Swing%'],\n",
      "      dtype='object')\n"
     ]
    }
   ],
   "source": [
    "print(player_data_kbo.columns) #105개의 행, 11개의 열\n",
    "print(player_data_kbo_in_MLB.columns) #205개의 행, 19개의 열\n",
    "print(new_player_in_MLB.columns) #41개의 행, 19개의 열"
   ]
  },
  {
   "cell_type": "raw",
   "id": "e0111aeb",
   "metadata": {},
   "source": [
    "pitcher_name : 투수이름\n",
    "year : 연도\n",
    "team : 소속팀\n",
    "era : 평균자책점\n",
    "war : 대체선수 대비 승리기여도\n",
    "tbf : 상대한 타자수\n",
    "h :  피안타 수\n",
    "hr : 피홈런 수\n",
    "bb : 피볼넷 수\n",
    "hbp : 피사구 수\n",
    "s0 : 삼진수\n",
    "year_born : 생년월일\n",
    "whip : 이닝당 출루 허용률\n",
    "babip : 인플레이 타구 안타 비율\n",
    "fip : 수비 무관 자책점\n",
    "ld% : 라인드라이브 비율\n",
    "gb% : 땅볼 비율\n",
    "fb% : 플라이볼 비율\n",
    "iffb% : 플라이볼 중 인필드 플라이볼 비율\n",
    "swstr% : 헛스윙 비율\n",
    "swing% : 스윙 비율"
   ]
  },
  {
   "cell_type": "code",
   "execution_count": 17,
   "id": "39c2d26a",
   "metadata": {},
   "outputs": [
    {
     "name": "stdout",
     "output_type": "stream",
     "text": [
      "              ERA         TBF\n",
      "count  105.000000  105.000000\n",
      "mean     4.714286  558.980952\n",
      "std      1.733072  224.436816\n",
      "min      2.380000   40.000000\n",
      "25%      3.740000  349.000000\n",
      "50%      4.420000  622.000000\n",
      "75%      5.230000  758.000000\n",
      "max     15.750000  870.000000\n"
     ]
    },
    {
     "data": {
      "image/png": "[encoded data removed]",
      "text/plain": [
       "<Figure size 432x288 with 2 Axes>"
      ]
     },
     "metadata": {
      "needs_background": "light"
     },
     "output_type": "display_data"
    }
   ],
   "source": [
    "player_data_kbo[['ERA','TBF']].hist()\n",
    "print(player_data_kbo[['ERA','TBF']].describe())"
   ]
  },
  {
   "cell_type": "code",
   "execution_count": 18,
   "id": "32320991",
   "metadata": {},
   "outputs": [
    {
     "name": "stdout",
     "output_type": "stream",
     "text": [
      "              ERA         TBF\n",
      "count  205.000000  205.000000\n",
      "mean     5.750585  193.160976\n",
      "std      3.404285  186.000312\n",
      "min      0.000000    4.000000\n",
      "25%      4.050000   57.000000\n",
      "50%      5.200000  126.000000\n",
      "75%      6.750000  263.000000\n",
      "max     27.000000  827.000000\n"
     ]
    },
    {
     "data": {
      "image/png": "[encoded data removed]",
      "text/plain": [
       "<Figure size 432x288 with 2 Axes>"
      ]
     },
     "metadata": {
      "needs_background": "light"
     },
     "output_type": "display_data"
    }
   ],
   "source": [
    "player_data_kbo_in_MLB[['ERA','TBF']].hist()\n",
    "print(player_data_kbo_in_MLB[['ERA','TBF']].describe())"
   ]
  },
  {
   "cell_type": "code",
   "execution_count": 19,
   "id": "f1ca3994",
   "metadata": {},
   "outputs": [
    {
     "data": {
      "text/html": [
       "<div>\n",
       "<style scoped>\n",
       "    .dataframe tbody tr th:only-of-type {\n",
       "        vertical-align: middle;\n",
       "    }\n",
       "\n",
       "    .dataframe tbody tr th {\n",
       "        vertical-align: top;\n",
       "    }\n",
       "\n",
       "    .dataframe thead th {\n",
       "        text-align: right;\n",
       "    }\n",
       "</style>\n",
       "<table border=\"1\" class=\"dataframe\">\n",
       "  <thead>\n",
       "    <tr style=\"text-align: right;\">\n",
       "      <th></th>\n",
       "      <th>pitcher_name</th>\n",
       "      <th>MLB_mean</th>\n",
       "      <th>KBO_mean</th>\n",
       "    </tr>\n",
       "  </thead>\n",
       "  <tbody>\n",
       "    <tr>\n",
       "      <th>0</th>\n",
       "      <td>니퍼트</td>\n",
       "      <td>4.290000</td>\n",
       "      <td>3.6875</td>\n",
       "    </tr>\n",
       "    <tr>\n",
       "      <th>1</th>\n",
       "      <td>다이아몬드</td>\n",
       "      <td>10.262500</td>\n",
       "      <td>4.4200</td>\n",
       "    </tr>\n",
       "    <tr>\n",
       "      <th>2</th>\n",
       "      <td>듀브론트</td>\n",
       "      <td>5.106667</td>\n",
       "      <td>4.9200</td>\n",
       "    </tr>\n",
       "    <tr>\n",
       "      <th>3</th>\n",
       "      <td>레나도</td>\n",
       "      <td>7.306667</td>\n",
       "      <td>6.8000</td>\n",
       "    </tr>\n",
       "    <tr>\n",
       "      <th>4</th>\n",
       "      <td>레온</td>\n",
       "      <td>6.050000</td>\n",
       "      <td>11.2500</td>\n",
       "    </tr>\n",
       "  </tbody>\n",
       "</table>\n",
       "</div>"
      ],
      "text/plain": [
       "  pitcher_name   MLB_mean  KBO_mean\n",
       "0          니퍼트   4.290000    3.6875\n",
       "1        다이아몬드  10.262500    4.4200\n",
       "2         듀브론트   5.106667    4.9200\n",
       "3          레나도   7.306667    6.8000\n",
       "4           레온   6.050000   11.2500"
      ]
     },
     "execution_count": 19,
     "metadata": {},
     "output_type": "execute_result"
    }
   ],
   "source": [
    "m_mean = (player_data_kbo_in_MLB.groupby('pitcher_name')['ERA'].\n",
    "         mean().\n",
    "         reset_index().\n",
    "         rename(columns={'ERA':'MLB_mean'}))\n",
    "k_mean = (player_data_kbo.groupby('pitcher_name')['ERA'].\n",
    "         mean().\n",
    "         reset_index().\n",
    "         rename(columns={'ERA':'KBO_mean'}))\n",
    "df = pd.merge(m_mean, k_mean, how='inner', on='pitcher_name')\n",
    "\n",
    "df.head()"
   ]
  },
  {
   "cell_type": "code",
   "execution_count": 24,
   "id": "a40c6cf1",
   "metadata": {},
   "outputs": [
    {
     "name": "stdout",
     "output_type": "stream",
     "text": [
      "          MLB_mean  KBO_mean\n",
      "MLB_mean  1.000000  0.107744\n",
      "KBO_mean  0.107744  1.000000\n"
     ]
    },
    {
     "data": {
      "image/png": "[encoded data removed]",
      "text/plain": [
       "<Figure size 432x288 with 1 Axes>"
      ]
     },
     "metadata": {
      "needs_background": "light"
     },
     "output_type": "display_data"
    }
   ],
   "source": [
    "df.plot(kind='scatter', x='MLB_mean', y='KBO_mean')\n",
    "print(df.corr()) # 두개의 상관계수가 작다(상관성이 적다)\n",
    "# 상관성이 적은 이유는 투수의 소속팀에 따라 ERA가 영향받기 때문에 온전히 투수의 능력을 평가할 지표로 사용하기 어렵다"
   ]
  },
  {
   "cell_type": "code",
   "execution_count": null,
   "id": "fe35900d",
   "metadata": {},
   "outputs": [],
   "source": []
  }
 ],
 "metadata": {
  "kernelspec": {
   "display_name": "Python 3 (ipykernel)",
   "language": "python",
   "name": "python3"
  },
  "language_info": {
   "codemirror_mode": {
    "name": "ipython",
    "version": 3
   },
   "file_extension": ".py",
   "mimetype": "text/x-python",
   "name": "python",
   "nbconvert_exporter": "python",
   "pygments_lexer": "ipython3",
   "version": "3.9.5"
  }
 },
 "nbformat": 4,
 "nbformat_minor": 5
}
