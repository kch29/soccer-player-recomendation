{
 "cells": [
  {
   "cell_type": "code",
   "execution_count": 1,
   "id": "18bfa82f",
   "metadata": {},
   "outputs": [],
   "source": [
    "msg = \"hello world\""
   ]
  },
  {
   "cell_type": "code",
   "execution_count": 2,
   "id": "37240b6d",
   "metadata": {},
   "outputs": [
    {
     "data": {
      "text/plain": [
       "'hello world'"
      ]
     },
     "execution_count": 2,
     "metadata": {},
     "output_type": "execute_result"
    }
   ],
   "source": [
    "msg"
   ]
  },
  {
   "cell_type": "code",
   "execution_count": 5,
   "id": "473c0d24",
   "metadata": {},
   "outputs": [
    {
     "data": {
      "text/plain": [
       "'HELLO WORLD'"
      ]
     },
     "execution_count": 5,
     "metadata": {},
     "output_type": "execute_result"
    }
   ],
   "source": [
    "msg.upper()"
   ]
  },
  {
   "cell_type": "code",
   "execution_count": 7,
   "id": "f2877ef7",
   "metadata": {},
   "outputs": [
    {
     "data": {
      "text/plain": [
       "'hello world'"
      ]
     },
     "execution_count": 7,
     "metadata": {},
     "output_type": "execute_result"
    }
   ],
   "source": [
    "msg.lower()"
   ]
  },
  {
   "cell_type": "code",
   "execution_count": 8,
   "id": "8ae33dd6",
   "metadata": {},
   "outputs": [
    {
     "ename": "AttributeError",
     "evalue": "'str' object has no attribute 'append'",
     "output_type": "error",
     "traceback": [
      "\u001b[1;31m---------------------------------------------------------------------------\u001b[0m",
      "\u001b[1;31mAttributeError\u001b[0m                            Traceback (most recent call last)",
      "Input \u001b[1;32mIn [8]\u001b[0m, in \u001b[0;36m<cell line: 1>\u001b[1;34m()\u001b[0m\n\u001b[1;32m----> 1\u001b[0m \u001b[43mmsg\u001b[49m\u001b[38;5;241;43m.\u001b[39;49m\u001b[43mappend\u001b[49m(\u001b[38;5;124m\"\u001b[39m\u001b[38;5;124mpython\u001b[39m\u001b[38;5;124m\"\u001b[39m)\n",
      "\u001b[1;31mAttributeError\u001b[0m: 'str' object has no attribute 'append'"
     ]
    }
   ],
   "source": [
    "msg.append(\"python\")"
   ]
  },
  {
   "cell_type": "code",
   "execution_count": 9,
   "id": "655c4d4c",
   "metadata": {},
   "outputs": [],
   "source": [
    "lang = [msg]"
   ]
  },
  {
   "cell_type": "code",
   "execution_count": 10,
   "id": "dea82f5e",
   "metadata": {},
   "outputs": [
    {
     "data": {
      "text/plain": [
       "['hello world']"
      ]
     },
     "execution_count": 10,
     "metadata": {},
     "output_type": "execute_result"
    }
   ],
   "source": [
    "lang"
   ]
  },
  {
   "cell_type": "code",
   "execution_count": 11,
   "id": "9d38b85f",
   "metadata": {},
   "outputs": [],
   "source": [
    "lang.append(\"python\")"
   ]
  },
  {
   "cell_type": "code",
   "execution_count": 12,
   "id": "487425ec",
   "metadata": {},
   "outputs": [
    {
     "data": {
      "text/plain": [
       "['hello world', 'python']"
      ]
     },
     "execution_count": 12,
     "metadata": {},
     "output_type": "execute_result"
    }
   ],
   "source": [
    "lang"
   ]
  },
  {
   "cell_type": "code",
   "execution_count": 13,
   "id": "87ce3268",
   "metadata": {},
   "outputs": [
    {
     "data": {
      "text/plain": [
       "'python'"
      ]
     },
     "execution_count": 13,
     "metadata": {},
     "output_type": "execute_result"
    }
   ],
   "source": [
    "lang[1]"
   ]
  },
  {
   "cell_type": "code",
   "execution_count": 14,
   "id": "88cfcbf3",
   "metadata": {},
   "outputs": [
    {
     "data": {
      "text/plain": [
       "'python'"
      ]
     },
     "execution_count": 14,
     "metadata": {},
     "output_type": "execute_result"
    }
   ],
   "source": [
    "lang[-1]"
   ]
  },
  {
   "cell_type": "code",
   "execution_count": 15,
   "id": "2d7d147f",
   "metadata": {},
   "outputs": [],
   "source": [
    "lang.append(\"c\")"
   ]
  },
  {
   "cell_type": "code",
   "execution_count": 16,
   "id": "4c8c13ca",
   "metadata": {},
   "outputs": [],
   "source": [
    "lang.append(\"java\")"
   ]
  },
  {
   "cell_type": "code",
   "execution_count": 17,
   "id": "1c6d208a",
   "metadata": {},
   "outputs": [
    {
     "name": "stdout",
     "output_type": "stream",
     "text": [
      "not java!\n",
      "not java!\n",
      "not java!\n",
      "java!\n"
     ]
    }
   ],
   "source": [
    "for i in lang:\n",
    "    if i == \"java\":\n",
    "        print(\"java!\")\n",
    "    else:\n",
    "        print(\"not java!\")"
   ]
  },
  {
   "cell_type": "code",
   "execution_count": 22,
   "id": "32eb1307",
   "metadata": {},
   "outputs": [
    {
     "name": "stdout",
     "output_type": "stream",
     "text": [
      "else\n",
      "2의 약수 2\n",
      "else\n",
      "2의 약수 4\n"
     ]
    }
   ],
   "source": [
    "for i in range(1,5):\n",
    "    if i%2==0:\n",
    "        print(\"2의 약수\", i)\n",
    "    else:\n",
    "        print(\"else\")"
   ]
  },
  {
   "cell_type": "code",
   "execution_count": 24,
   "id": "5efbc86a",
   "metadata": {},
   "outputs": [
    {
     "name": "stdout",
     "output_type": "stream",
     "text": [
      "0 hello world\n",
      "1 python\n",
      "2 c\n",
      "3 java\n"
     ]
    }
   ],
   "source": [
    "for i , val in enumerate(lang):\n",
    "    print(i , val)"
   ]
  },
  {
   "cell_type": "code",
   "execution_count": 25,
   "id": "65370f40",
   "metadata": {},
   "outputs": [],
   "source": [
    "address = \" 충북 청주시 상당구 용담동 \""
   ]
  },
  {
   "cell_type": "code",
   "execution_count": 26,
   "id": "5817b028",
   "metadata": {},
   "outputs": [
    {
     "data": {
      "text/plain": [
       "' 충북 청주시 상당구 용담동 '"
      ]
     },
     "execution_count": 26,
     "metadata": {},
     "output_type": "execute_result"
    }
   ],
   "source": [
    "address"
   ]
  },
  {
   "cell_type": "code",
   "execution_count": 39,
   "id": "fc1baf2d",
   "metadata": {},
   "outputs": [
    {
     "data": {
      "text/plain": [
       "'충북 청주시 상당구 용담동'"
      ]
     },
     "execution_count": 39,
     "metadata": {},
     "output_type": "execute_result"
    }
   ],
   "source": [
    "address = address.strip()\n",
    "address"
   ]
  },
  {
   "cell_type": "code",
   "execution_count": 40,
   "id": "dfba2152",
   "metadata": {},
   "outputs": [
    {
     "data": {
      "text/plain": [
       "14"
      ]
     },
     "execution_count": 40,
     "metadata": {},
     "output_type": "execute_result"
    }
   ],
   "source": [
    "len(address) # 공백 포함"
   ]
  },
  {
   "cell_type": "code",
   "execution_count": 41,
   "id": "e0f903d8",
   "metadata": {},
   "outputs": [
    {
     "data": {
      "text/plain": [
       "'충북 청주시'"
      ]
     },
     "execution_count": 41,
     "metadata": {},
     "output_type": "execute_result"
    }
   ],
   "source": [
    "city = address[:6]\n",
    "city"
   ]
  },
  {
   "cell_type": "code",
   "execution_count": 42,
   "id": "0e2535a6",
   "metadata": {},
   "outputs": [
    {
     "data": {
      "text/plain": [
       "False"
      ]
     },
     "execution_count": 42,
     "metadata": {},
     "output_type": "execute_result"
    }
   ],
   "source": [
    "address.startswith(\"서울\")"
   ]
  },
  {
   "cell_type": "code",
   "execution_count": 43,
   "id": "feb48f9b",
   "metadata": {},
   "outputs": [
    {
     "data": {
      "text/plain": [
       "False"
      ]
     },
     "execution_count": 43,
     "metadata": {},
     "output_type": "execute_result"
    }
   ],
   "source": [
    "\"경기\" in address"
   ]
  },
  {
   "cell_type": "code",
   "execution_count": 47,
   "id": "72032c63",
   "metadata": {},
   "outputs": [],
   "source": [
    "address_list =address.split()"
   ]
  },
  {
   "cell_type": "code",
   "execution_count": 48,
   "id": "3c3c9b03",
   "metadata": {},
   "outputs": [
    {
     "data": {
      "text/plain": [
       "['충북', '청주시', '상당구', '용담동']"
      ]
     },
     "execution_count": 48,
     "metadata": {},
     "output_type": "execute_result"
    }
   ],
   "source": [
    "address_list"
   ]
  },
  {
   "cell_type": "code",
   "execution_count": 49,
   "id": "a53f4a86",
   "metadata": {},
   "outputs": [],
   "source": [
    "gu = address_list[2]"
   ]
  },
  {
   "cell_type": "code",
   "execution_count": 50,
   "id": "3626b677",
   "metadata": {},
   "outputs": [
    {
     "data": {
      "text/plain": [
       "'상당구'"
      ]
     },
     "execution_count": 50,
     "metadata": {},
     "output_type": "execute_result"
    }
   ],
   "source": [
    "gu"
   ]
  },
  {
   "cell_type": "code",
   "execution_count": 53,
   "id": "6cf52312",
   "metadata": {},
   "outputs": [
    {
     "data": {
      "text/plain": [
       "'충북청주시상당구용담동'"
      ]
     },
     "execution_count": 53,
     "metadata": {},
     "output_type": "execute_result"
    }
   ],
   "source": [
    "\"\".join(address_list) #분리되어 있던 문자열들을 다시 ''안에 조합(join)"
   ]
  },
  {
   "cell_type": "code",
   "execution_count": 56,
   "id": "29a64c34",
   "metadata": {},
   "outputs": [
    {
     "data": {
      "text/plain": [
       "True"
      ]
     },
     "execution_count": 56,
     "metadata": {},
     "output_type": "execute_result"
    }
   ],
   "source": [
    "\"충북\" in address_list "
   ]
  },
  {
   "cell_type": "code",
   "execution_count": null,
   "id": "8272ee55",
   "metadata": {},
   "outputs": [],
   "source": []
  }
 ],
 "metadata": {
  "kernelspec": {
   "display_name": "Python 3 (ipykernel)",
   "language": "python",
   "name": "python3"
  },
  "language_info": {
   "codemirror_mode": {
    "name": "ipython",
    "version": 3
   },
   "file_extension": ".py",
   "mimetype": "text/x-python",
   "name": "python",
   "nbconvert_exporter": "python",
   "pygments_lexer": "ipython3",
   "version": "3.9.5"
  }
 },
 "nbformat": 4,
 "nbformat_minor": 5
}
